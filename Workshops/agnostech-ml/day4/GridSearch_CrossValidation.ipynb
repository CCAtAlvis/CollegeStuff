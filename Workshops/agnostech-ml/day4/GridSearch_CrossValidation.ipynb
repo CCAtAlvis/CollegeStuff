{
 "cells": [
  {
   "cell_type": "code",
   "execution_count": 4,
   "metadata": {},
   "outputs": [],
   "source": [
    "import numpy as np\n",
    "import pandas as pd\n",
    "from matplotlib import pyplot as plt\n",
    "from sklearn.model_selection import train_test_split\n",
    "from sklearn.metrics import accuracy_score\n",
    "from sklearn.preprocessing import LabelEncoder\n",
    "\n",
    "# Grid Search & Cross Validation\n",
    "from sklearn.model_selection import GridSearchCV\n",
    "\n",
    "#\n",
    "from sklearn.ensemble import RandomForestClassifier"
   ]
  },
  {
   "cell_type": "code",
   "execution_count": 5,
   "metadata": {},
   "outputs": [],
   "source": [
    "grid = [\n",
    "    {\n",
    "        'classifier': [RandomForestClassifier()],\n",
    "        'classifier__n_estimators': [10, 30, 50, 100],\n",
    "    }\n",
    "]"
   ]
  },
  {
   "cell_type": "code",
   "execution_count": 6,
   "metadata": {},
   "outputs": [
    {
     "ename": "TypeError",
     "evalue": "__init__() missing 2 required positional arguments: 'estimator' and 'param_grid'",
     "output_type": "error",
     "traceback": [
      "\u001b[0;31m---------------------------------------------------------------------------\u001b[0m",
      "\u001b[0;31mTypeError\u001b[0m                                 Traceback (most recent call last)",
      "\u001b[0;32m<ipython-input-6-41254437e3d6>\u001b[0m in \u001b[0;36m<module>\u001b[0;34m\u001b[0m\n\u001b[0;32m----> 1\u001b[0;31m \u001b[0mclassifier\u001b[0m \u001b[0;34m=\u001b[0m \u001b[0mGridSearchCV\u001b[0m\u001b[0;34m(\u001b[0m\u001b[0;34m)\u001b[0m\u001b[0;34m\u001b[0m\u001b[0;34m\u001b[0m\u001b[0m\n\u001b[0m",
      "\u001b[0;31mTypeError\u001b[0m: __init__() missing 2 required positional arguments: 'estimator' and 'param_grid'"
     ]
    }
   ],
   "source": [
    "classifier = GridSearchCV()"
   ]
  },
  {
   "cell_type": "code",
   "execution_count": 7,
   "metadata": {},
   "outputs": [],
   "source": [
    "data = pd.read_csv('data.csv')"
   ]
  },
  {
   "cell_type": "code",
   "execution_count": 14,
   "metadata": {},
   "outputs": [],
   "source": [
    "grid = {\n",
    "    'n_estimators': [10, 30, 50],\n",
    "    'criterion': ['entropy', 'gini'],\n",
    "    'max_depth': [5, 10],\n",
    "    'n_jobs': [-1]\n",
    "}"
   ]
  },
  {
   "cell_type": "code",
   "execution_count": 15,
   "metadata": {},
   "outputs": [],
   "source": [
    "classifier = GridSearchCV(\n",
    "    estimator=RandomForestClassifier(),\n",
    "    cv=5,\n",
    "    param_grid=grid,\n",
    "    scoring='accuracy',\n",
    "    refit=True,\n",
    "    verbose=2\n",
    ")"
   ]
  },
  {
   "cell_type": "code",
   "execution_count": 10,
   "metadata": {},
   "outputs": [],
   "source": [
    "x = data.iloc[:, :-1]\n",
    "y = data.iloc[:, -1]"
   ]
  },
  {
   "cell_type": "code",
   "execution_count": 16,
   "metadata": {},
   "outputs": [
    {
     "name": "stdout",
     "output_type": "stream",
     "text": [
      "Fitting 5 folds for each of 12 candidates, totalling 60 fits\n"
     ]
    },
    {
     "name": "stderr",
     "output_type": "stream",
     "text": [
      "[Parallel(n_jobs=1)]: Using backend SequentialBackend with 1 concurrent workers.\n"
     ]
    },
    {
     "name": "stdout",
     "output_type": "stream",
     "text": [
      "[CV] criterion=entropy, max_depth=5, n_estimators=10, n_jobs=-1 ......\n",
      "[CV]  criterion=entropy, max_depth=5, n_estimators=10, n_jobs=-1, total=   6.0s\n",
      "[CV] criterion=entropy, max_depth=5, n_estimators=10, n_jobs=-1 ......\n"
     ]
    },
    {
     "name": "stderr",
     "output_type": "stream",
     "text": [
      "[Parallel(n_jobs=1)]: Done   1 out of   1 | elapsed:    6.0s remaining:    0.0s\n"
     ]
    },
    {
     "name": "stdout",
     "output_type": "stream",
     "text": [
      "[CV]  criterion=entropy, max_depth=5, n_estimators=10, n_jobs=-1, total=   2.1s\n",
      "[CV] criterion=entropy, max_depth=5, n_estimators=10, n_jobs=-1 ......\n",
      "[CV]  criterion=entropy, max_depth=5, n_estimators=10, n_jobs=-1, total=   2.2s\n",
      "[CV] criterion=entropy, max_depth=5, n_estimators=10, n_jobs=-1 ......\n",
      "[CV]  criterion=entropy, max_depth=5, n_estimators=10, n_jobs=-1, total=   2.1s\n",
      "[CV] criterion=entropy, max_depth=5, n_estimators=10, n_jobs=-1 ......\n",
      "[CV]  criterion=entropy, max_depth=5, n_estimators=10, n_jobs=-1, total=   2.2s\n",
      "[CV] criterion=entropy, max_depth=5, n_estimators=30, n_jobs=-1 ......\n",
      "[CV]  criterion=entropy, max_depth=5, n_estimators=30, n_jobs=-1, total=   4.8s\n",
      "[CV] criterion=entropy, max_depth=5, n_estimators=30, n_jobs=-1 ......\n",
      "[CV]  criterion=entropy, max_depth=5, n_estimators=30, n_jobs=-1, total=   4.7s\n",
      "[CV] criterion=entropy, max_depth=5, n_estimators=30, n_jobs=-1 ......\n",
      "[CV]  criterion=entropy, max_depth=5, n_estimators=30, n_jobs=-1, total=   4.9s\n",
      "[CV] criterion=entropy, max_depth=5, n_estimators=30, n_jobs=-1 ......\n",
      "[CV]  criterion=entropy, max_depth=5, n_estimators=30, n_jobs=-1, total=   4.8s\n",
      "[CV] criterion=entropy, max_depth=5, n_estimators=30, n_jobs=-1 ......\n",
      "[CV]  criterion=entropy, max_depth=5, n_estimators=30, n_jobs=-1, total=   4.9s\n",
      "[CV] criterion=entropy, max_depth=5, n_estimators=50, n_jobs=-1 ......\n",
      "[CV]  criterion=entropy, max_depth=5, n_estimators=50, n_jobs=-1, total=   7.5s\n",
      "[CV] criterion=entropy, max_depth=5, n_estimators=50, n_jobs=-1 ......\n",
      "[CV]  criterion=entropy, max_depth=5, n_estimators=50, n_jobs=-1, total=   7.3s\n",
      "[CV] criterion=entropy, max_depth=5, n_estimators=50, n_jobs=-1 ......\n",
      "[CV]  criterion=entropy, max_depth=5, n_estimators=50, n_jobs=-1, total=   7.4s\n",
      "[CV] criterion=entropy, max_depth=5, n_estimators=50, n_jobs=-1 ......\n",
      "[CV]  criterion=entropy, max_depth=5, n_estimators=50, n_jobs=-1, total=   7.6s\n",
      "[CV] criterion=entropy, max_depth=5, n_estimators=50, n_jobs=-1 ......\n",
      "[CV]  criterion=entropy, max_depth=5, n_estimators=50, n_jobs=-1, total=   7.7s\n",
      "[CV] criterion=entropy, max_depth=10, n_estimators=10, n_jobs=-1 .....\n",
      "[CV]  criterion=entropy, max_depth=10, n_estimators=10, n_jobs=-1, total=   6.3s\n",
      "[CV] criterion=entropy, max_depth=10, n_estimators=10, n_jobs=-1 .....\n",
      "[CV]  criterion=entropy, max_depth=10, n_estimators=10, n_jobs=-1, total=   6.0s\n",
      "[CV] criterion=entropy, max_depth=10, n_estimators=10, n_jobs=-1 .....\n",
      "[CV]  criterion=entropy, max_depth=10, n_estimators=10, n_jobs=-1, total=   5.9s\n",
      "[CV] criterion=entropy, max_depth=10, n_estimators=10, n_jobs=-1 .....\n",
      "[CV]  criterion=entropy, max_depth=10, n_estimators=10, n_jobs=-1, total=   6.3s\n",
      "[CV] criterion=entropy, max_depth=10, n_estimators=10, n_jobs=-1 .....\n",
      "[CV]  criterion=entropy, max_depth=10, n_estimators=10, n_jobs=-1, total=   6.1s\n",
      "[CV] criterion=entropy, max_depth=10, n_estimators=30, n_jobs=-1 .....\n",
      "[CV]  criterion=entropy, max_depth=10, n_estimators=30, n_jobs=-1, total=  15.3s\n",
      "[CV] criterion=entropy, max_depth=10, n_estimators=30, n_jobs=-1 .....\n",
      "[CV]  criterion=entropy, max_depth=10, n_estimators=30, n_jobs=-1, total=  15.9s\n",
      "[CV] criterion=entropy, max_depth=10, n_estimators=30, n_jobs=-1 .....\n",
      "[CV]  criterion=entropy, max_depth=10, n_estimators=30, n_jobs=-1, total=  15.2s\n",
      "[CV] criterion=entropy, max_depth=10, n_estimators=30, n_jobs=-1 .....\n",
      "[CV]  criterion=entropy, max_depth=10, n_estimators=30, n_jobs=-1, total=  15.6s\n",
      "[CV] criterion=entropy, max_depth=10, n_estimators=30, n_jobs=-1 .....\n",
      "[CV]  criterion=entropy, max_depth=10, n_estimators=30, n_jobs=-1, total=  15.3s\n",
      "[CV] criterion=entropy, max_depth=10, n_estimators=50, n_jobs=-1 .....\n",
      "[CV]  criterion=entropy, max_depth=10, n_estimators=50, n_jobs=-1, total=  24.5s\n",
      "[CV] criterion=entropy, max_depth=10, n_estimators=50, n_jobs=-1 .....\n",
      "[CV]  criterion=entropy, max_depth=10, n_estimators=50, n_jobs=-1, total=  24.2s\n",
      "[CV] criterion=entropy, max_depth=10, n_estimators=50, n_jobs=-1 .....\n",
      "[CV]  criterion=entropy, max_depth=10, n_estimators=50, n_jobs=-1, total=  24.3s\n",
      "[CV] criterion=entropy, max_depth=10, n_estimators=50, n_jobs=-1 .....\n",
      "[CV]  criterion=entropy, max_depth=10, n_estimators=50, n_jobs=-1, total=  25.2s\n",
      "[CV] criterion=entropy, max_depth=10, n_estimators=50, n_jobs=-1 .....\n",
      "[CV]  criterion=entropy, max_depth=10, n_estimators=50, n_jobs=-1, total=  24.4s\n",
      "[CV] criterion=gini, max_depth=5, n_estimators=10, n_jobs=-1 .........\n",
      "[CV]  criterion=gini, max_depth=5, n_estimators=10, n_jobs=-1, total=   1.3s\n",
      "[CV] criterion=gini, max_depth=5, n_estimators=10, n_jobs=-1 .........\n",
      "[CV]  criterion=gini, max_depth=5, n_estimators=10, n_jobs=-1, total=   1.3s\n",
      "[CV] criterion=gini, max_depth=5, n_estimators=10, n_jobs=-1 .........\n",
      "[CV]  criterion=gini, max_depth=5, n_estimators=10, n_jobs=-1, total=   1.3s\n",
      "[CV] criterion=gini, max_depth=5, n_estimators=10, n_jobs=-1 .........\n",
      "[CV]  criterion=gini, max_depth=5, n_estimators=10, n_jobs=-1, total=   1.3s\n",
      "[CV] criterion=gini, max_depth=5, n_estimators=10, n_jobs=-1 .........\n",
      "[CV]  criterion=gini, max_depth=5, n_estimators=10, n_jobs=-1, total=   1.3s\n",
      "[CV] criterion=gini, max_depth=5, n_estimators=30, n_jobs=-1 .........\n",
      "[CV]  criterion=gini, max_depth=5, n_estimators=30, n_jobs=-1, total=   2.6s\n",
      "[CV] criterion=gini, max_depth=5, n_estimators=30, n_jobs=-1 .........\n",
      "[CV]  criterion=gini, max_depth=5, n_estimators=30, n_jobs=-1, total=   2.5s\n",
      "[CV] criterion=gini, max_depth=5, n_estimators=30, n_jobs=-1 .........\n",
      "[CV]  criterion=gini, max_depth=5, n_estimators=30, n_jobs=-1, total=   2.6s\n",
      "[CV] criterion=gini, max_depth=5, n_estimators=30, n_jobs=-1 .........\n",
      "[CV]  criterion=gini, max_depth=5, n_estimators=30, n_jobs=-1, total=   3.3s\n",
      "[CV] criterion=gini, max_depth=5, n_estimators=30, n_jobs=-1 .........\n",
      "[CV]  criterion=gini, max_depth=5, n_estimators=30, n_jobs=-1, total=   2.4s\n",
      "[CV] criterion=gini, max_depth=5, n_estimators=50, n_jobs=-1 .........\n",
      "[CV]  criterion=gini, max_depth=5, n_estimators=50, n_jobs=-1, total=   3.8s\n",
      "[CV] criterion=gini, max_depth=5, n_estimators=50, n_jobs=-1 .........\n",
      "[CV]  criterion=gini, max_depth=5, n_estimators=50, n_jobs=-1, total=   3.7s\n",
      "[CV] criterion=gini, max_depth=5, n_estimators=50, n_jobs=-1 .........\n",
      "[CV]  criterion=gini, max_depth=5, n_estimators=50, n_jobs=-1, total=   3.7s\n",
      "[CV] criterion=gini, max_depth=5, n_estimators=50, n_jobs=-1 .........\n",
      "[CV]  criterion=gini, max_depth=5, n_estimators=50, n_jobs=-1, total=   3.6s\n",
      "[CV] criterion=gini, max_depth=5, n_estimators=50, n_jobs=-1 .........\n",
      "[CV]  criterion=gini, max_depth=5, n_estimators=50, n_jobs=-1, total=   3.8s\n",
      "[CV] criterion=gini, max_depth=10, n_estimators=10, n_jobs=-1 ........\n",
      "[CV]  criterion=gini, max_depth=10, n_estimators=10, n_jobs=-1, total=   2.1s\n",
      "[CV] criterion=gini, max_depth=10, n_estimators=10, n_jobs=-1 ........\n",
      "[CV]  criterion=gini, max_depth=10, n_estimators=10, n_jobs=-1, total=   2.1s\n",
      "[CV] criterion=gini, max_depth=10, n_estimators=10, n_jobs=-1 ........\n",
      "[CV]  criterion=gini, max_depth=10, n_estimators=10, n_jobs=-1, total=   2.2s\n",
      "[CV] criterion=gini, max_depth=10, n_estimators=10, n_jobs=-1 ........\n",
      "[CV]  criterion=gini, max_depth=10, n_estimators=10, n_jobs=-1, total=   2.1s\n",
      "[CV] criterion=gini, max_depth=10, n_estimators=10, n_jobs=-1 ........\n",
      "[CV]  criterion=gini, max_depth=10, n_estimators=10, n_jobs=-1, total=   2.1s\n",
      "[CV] criterion=gini, max_depth=10, n_estimators=30, n_jobs=-1 ........\n",
      "[CV]  criterion=gini, max_depth=10, n_estimators=30, n_jobs=-1, total=   4.8s\n",
      "[CV] criterion=gini, max_depth=10, n_estimators=30, n_jobs=-1 ........\n",
      "[CV]  criterion=gini, max_depth=10, n_estimators=30, n_jobs=-1, total=   4.7s\n",
      "[CV] criterion=gini, max_depth=10, n_estimators=30, n_jobs=-1 ........\n",
      "[CV]  criterion=gini, max_depth=10, n_estimators=30, n_jobs=-1, total=   4.7s\n",
      "[CV] criterion=gini, max_depth=10, n_estimators=30, n_jobs=-1 ........\n",
      "[CV]  criterion=gini, max_depth=10, n_estimators=30, n_jobs=-1, total=   4.8s\n",
      "[CV] criterion=gini, max_depth=10, n_estimators=30, n_jobs=-1 ........\n",
      "[CV]  criterion=gini, max_depth=10, n_estimators=30, n_jobs=-1, total=   4.7s\n",
      "[CV] criterion=gini, max_depth=10, n_estimators=50, n_jobs=-1 ........\n",
      "[CV]  criterion=gini, max_depth=10, n_estimators=50, n_jobs=-1, total=   7.4s\n",
      "[CV] criterion=gini, max_depth=10, n_estimators=50, n_jobs=-1 ........\n"
     ]
    },
    {
     "name": "stdout",
     "output_type": "stream",
     "text": [
      "[CV]  criterion=gini, max_depth=10, n_estimators=50, n_jobs=-1, total=   7.4s\n",
      "[CV] criterion=gini, max_depth=10, n_estimators=50, n_jobs=-1 ........\n",
      "[CV]  criterion=gini, max_depth=10, n_estimators=50, n_jobs=-1, total=   7.6s\n",
      "[CV] criterion=gini, max_depth=10, n_estimators=50, n_jobs=-1 ........\n",
      "[CV]  criterion=gini, max_depth=10, n_estimators=50, n_jobs=-1, total=   7.5s\n",
      "[CV] criterion=gini, max_depth=10, n_estimators=50, n_jobs=-1 ........\n",
      "[CV]  criterion=gini, max_depth=10, n_estimators=50, n_jobs=-1, total=   7.4s\n"
     ]
    },
    {
     "name": "stderr",
     "output_type": "stream",
     "text": [
      "[Parallel(n_jobs=1)]: Done  60 out of  60 | elapsed:  7.0min finished\n"
     ]
    },
    {
     "data": {
      "text/plain": [
       "GridSearchCV(cv=5, error_score='raise-deprecating',\n",
       "             estimator=RandomForestClassifier(bootstrap=True, class_weight=None,\n",
       "                                              criterion='gini', max_depth=None,\n",
       "                                              max_features='auto',\n",
       "                                              max_leaf_nodes=None,\n",
       "                                              min_impurity_decrease=0.0,\n",
       "                                              min_impurity_split=None,\n",
       "                                              min_samples_leaf=1,\n",
       "                                              min_samples_split=2,\n",
       "                                              min_weight_fraction_leaf=0.0,\n",
       "                                              n_estimators='warn', n_jobs=None,\n",
       "                                              oob_score=False,\n",
       "                                              random_state=None, verbose=0,\n",
       "                                              warm_start=False),\n",
       "             iid='warn', n_jobs=None,\n",
       "             param_grid={'criterion': ['entropy', 'gini'], 'max_depth': [5, 10],\n",
       "                         'n_estimators': [10, 30, 50], 'n_jobs': [-1]},\n",
       "             pre_dispatch='2*n_jobs', refit=True, return_train_score=False,\n",
       "             scoring='accuracy', verbose=2)"
      ]
     },
     "execution_count": 16,
     "metadata": {},
     "output_type": "execute_result"
    }
   ],
   "source": [
    "classifier.fit(x,y)"
   ]
  },
  {
   "cell_type": "code",
   "execution_count": 17,
   "metadata": {},
   "outputs": [
    {
     "data": {
      "text/plain": [
       "RandomForestClassifier(bootstrap=True, class_weight=None, criterion='entropy',\n",
       "                       max_depth=10, max_features='auto', max_leaf_nodes=None,\n",
       "                       min_impurity_decrease=0.0, min_impurity_split=None,\n",
       "                       min_samples_leaf=1, min_samples_split=2,\n",
       "                       min_weight_fraction_leaf=0.0, n_estimators=50, n_jobs=-1,\n",
       "                       oob_score=False, random_state=None, verbose=0,\n",
       "                       warm_start=False)"
      ]
     },
     "execution_count": 17,
     "metadata": {},
     "output_type": "execute_result"
    }
   ],
   "source": [
    "classifier.best_estimator_"
   ]
  },
  {
   "cell_type": "code",
   "execution_count": 18,
   "metadata": {},
   "outputs": [
    {
     "data": {
      "text/plain": [
       "0.632891304347826"
      ]
     },
     "execution_count": 18,
     "metadata": {},
     "output_type": "execute_result"
    }
   ],
   "source": [
    "classifier.best_score_"
   ]
  },
  {
   "cell_type": "code",
   "execution_count": 19,
   "metadata": {},
   "outputs": [
    {
     "data": {
      "text/plain": [
       "{'criterion': 'entropy', 'max_depth': 10, 'n_estimators': 50, 'n_jobs': -1}"
      ]
     },
     "execution_count": 19,
     "metadata": {},
     "output_type": "execute_result"
    }
   ],
   "source": [
    "classifier.best_params_"
   ]
  },
  {
   "cell_type": "code",
   "execution_count": 20,
   "metadata": {},
   "outputs": [
    {
     "data": {
      "text/plain": [
       "5"
      ]
     },
     "execution_count": 20,
     "metadata": {},
     "output_type": "execute_result"
    }
   ],
   "source": [
    "classifier.best_index_"
   ]
  },
  {
   "cell_type": "code",
   "execution_count": 21,
   "metadata": {},
   "outputs": [],
   "source": [
    "import pickle"
   ]
  },
  {
   "cell_type": "code",
   "execution_count": 22,
   "metadata": {},
   "outputs": [],
   "source": [
    "file = 'char_reg.model'"
   ]
  },
  {
   "cell_type": "code",
   "execution_count": 23,
   "metadata": {},
   "outputs": [],
   "source": [
    "pickle.dump(classifier, open(file, 'wb'))"
   ]
  },
  {
   "cell_type": "code",
   "execution_count": 24,
   "metadata": {},
   "outputs": [
    {
     "data": {
      "text/plain": [
       "0        character_01_ka\n",
       "1        character_01_ka\n",
       "2        character_01_ka\n",
       "3        character_01_ka\n",
       "4        character_01_ka\n",
       "5        character_01_ka\n",
       "6        character_01_ka\n",
       "7        character_01_ka\n",
       "8        character_01_ka\n",
       "9        character_01_ka\n",
       "10       character_01_ka\n",
       "11       character_01_ka\n",
       "12       character_01_ka\n",
       "13       character_01_ka\n",
       "14       character_01_ka\n",
       "15       character_01_ka\n",
       "16       character_01_ka\n",
       "17       character_01_ka\n",
       "18       character_01_ka\n",
       "19       character_01_ka\n",
       "20       character_01_ka\n",
       "21       character_01_ka\n",
       "22       character_01_ka\n",
       "23       character_01_ka\n",
       "24       character_01_ka\n",
       "25       character_01_ka\n",
       "26       character_01_ka\n",
       "27       character_01_ka\n",
       "28       character_01_ka\n",
       "29       character_01_ka\n",
       "              ...       \n",
       "91970            digit_9\n",
       "91971            digit_9\n",
       "91972            digit_9\n",
       "91973            digit_9\n",
       "91974            digit_9\n",
       "91975            digit_9\n",
       "91976            digit_9\n",
       "91977            digit_9\n",
       "91978            digit_9\n",
       "91979            digit_9\n",
       "91980            digit_9\n",
       "91981            digit_9\n",
       "91982            digit_9\n",
       "91983            digit_9\n",
       "91984            digit_9\n",
       "91985            digit_9\n",
       "91986            digit_9\n",
       "91987            digit_9\n",
       "91988            digit_9\n",
       "91989            digit_9\n",
       "91990            digit_9\n",
       "91991            digit_9\n",
       "91992            digit_9\n",
       "91993            digit_9\n",
       "91994            digit_9\n",
       "91995            digit_9\n",
       "91996            digit_9\n",
       "91997            digit_9\n",
       "91998            digit_9\n",
       "91999            digit_9\n",
       "Name: character, Length: 92000, dtype: object"
      ]
     },
     "execution_count": 24,
     "metadata": {},
     "output_type": "execute_result"
    }
   ],
   "source": [
    "y"
   ]
  },
  {
   "cell_type": "code",
   "execution_count": null,
   "metadata": {},
   "outputs": [],
   "source": []
  }
 ],
 "metadata": {
  "kernelspec": {
   "display_name": "Python 3",
   "language": "python",
   "name": "python3"
  },
  "language_info": {
   "codemirror_mode": {
    "name": "ipython",
    "version": 3
   },
   "file_extension": ".py",
   "mimetype": "text/x-python",
   "name": "python",
   "nbconvert_exporter": "python",
   "pygments_lexer": "ipython3",
   "version": "3.7.3"
  }
 },
 "nbformat": 4,
 "nbformat_minor": 2
}
