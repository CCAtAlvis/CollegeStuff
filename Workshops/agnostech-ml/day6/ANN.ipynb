{
  "nbformat": 4,
  "nbformat_minor": 0,
  "metadata": {
    "colab": {
      "name": "ANN.ipynb",
      "version": "0.3.2",
      "provenance": [],
      "include_colab_link": true
    },
    "kernelspec": {
      "name": "python3",
      "display_name": "Python 3"
    }
  },
  "cells": [
    {
      "cell_type": "markdown",
      "metadata": {
        "id": "view-in-github",
        "colab_type": "text"
      },
      "source": [
        "<a href=\"https://colab.research.google.com/github/CCAtAlvis/CollegeStuff/blob/master/Workshops/agnostech-ml/day6/ANN.ipynb\" target=\"_parent\"><img src=\"https://colab.research.google.com/assets/colab-badge.svg\" alt=\"Open In Colab\"/></a>"
      ]
    },
    {
      "cell_type": "code",
      "metadata": {
        "id": "NtE_cKPQyznb",
        "colab_type": "code",
        "colab": {}
      },
      "source": [
        "from keras.models import Sequential\n",
        "from keras.layers import Dense, Activation"
      ],
      "execution_count": 0,
      "outputs": []
    },
    {
      "cell_type": "code",
      "metadata": {
        "id": "jWtS6oes163B",
        "colab_type": "code",
        "colab": {}
      },
      "source": [
        "model = Sequential()\n"
      ],
      "execution_count": 0,
      "outputs": []
    },
    {
      "cell_type": "code",
      "metadata": {
        "id": "fnZznVaSxwNI",
        "colab_type": "code",
        "colab": {}
      },
      "source": [
        "model.add(Dense(units=32, input_dim=20, activation=\"sigmoid\"))"
      ],
      "execution_count": 0,
      "outputs": []
    },
    {
      "cell_type": "code",
      "metadata": {
        "id": "oAWg7D0D2j8r",
        "colab_type": "code",
        "colab": {}
      },
      "source": [
        "model.add(Dense(units=20, activation=\"sigmoid\"))\n",
        "model.add(Dense(units=1, activation=\"sigmoid\"))"
      ],
      "execution_count": 0,
      "outputs": []
    },
    {
      "cell_type": "code",
      "metadata": {
        "id": "kUJBng906AJj",
        "colab_type": "code",
        "colab": {}
      },
      "source": [
        ""
      ],
      "execution_count": 0,
      "outputs": []
    },
    {
      "cell_type": "code",
      "metadata": {
        "id": "OIzddGh035G-",
        "colab_type": "code",
        "colab": {}
      },
      "source": [
        "model.compile(loss='binary_crossentropy', optimizer='sgd', metrics=['accuracy'])"
      ],
      "execution_count": 0,
      "outputs": []
    },
    {
      "cell_type": "code",
      "metadata": {
        "id": "z2t-o3Cp5Z6W",
        "colab_type": "code",
        "colab": {}
      },
      "source": [
        "import numpy\n",
        "from sklearn.model_selection import train_test_split"
      ],
      "execution_count": 0,
      "outputs": []
    },
    {
      "cell_type": "code",
      "metadata": {
        "id": "OLd9RTvt6LjG",
        "colab_type": "code",
        "colab": {}
      },
      "source": [
        "x = numpy.random.randint(100, size=(10000,20))\n",
        "y = [int(sum(i)>500) for i in x]"
      ],
      "execution_count": 0,
      "outputs": []
    },
    {
      "cell_type": "code",
      "metadata": {
        "id": "Vh23Whrk6nG6",
        "colab_type": "code",
        "colab": {}
      },
      "source": [
        "xtrain, xtest, ytrain, ytest = train_test_split(x, y)"
      ],
      "execution_count": 0,
      "outputs": []
    },
    {
      "cell_type": "code",
      "metadata": {
        "id": "d6S9rgFP6tC7",
        "colab_type": "code",
        "outputId": "34fbcce9-3f18-4327-e6aa-c3d1357774ac",
        "colab": {
          "base_uri": "https://localhost:8080/",
          "height": 374
        }
      },
      "source": [
        "model.fit(xtrain, ytrain, epochs=10)"
      ],
      "execution_count": 0,
      "outputs": [
        {
          "output_type": "stream",
          "text": [
            "Epoch 1/10\n",
            "7500/7500 [==============================] - 0s 45us/step - loss: 0.0057 - acc: 0.9993\n",
            "Epoch 2/10\n",
            "7500/7500 [==============================] - 0s 43us/step - loss: 0.0057 - acc: 0.9993\n",
            "Epoch 3/10\n",
            "7500/7500 [==============================] - 0s 46us/step - loss: 0.0057 - acc: 0.9993\n",
            "Epoch 4/10\n",
            "7500/7500 [==============================] - 0s 44us/step - loss: 0.0056 - acc: 0.9993\n",
            "Epoch 5/10\n",
            "7500/7500 [==============================] - 0s 42us/step - loss: 0.0056 - acc: 0.9993\n",
            "Epoch 6/10\n",
            "7500/7500 [==============================] - 0s 40us/step - loss: 0.0056 - acc: 0.9993\n",
            "Epoch 7/10\n",
            "7500/7500 [==============================] - 0s 41us/step - loss: 0.0056 - acc: 0.9993\n",
            "Epoch 8/10\n",
            "7500/7500 [==============================] - 0s 42us/step - loss: 0.0056 - acc: 0.9993\n",
            "Epoch 9/10\n",
            "7500/7500 [==============================] - 0s 41us/step - loss: 0.0056 - acc: 0.9993\n",
            "Epoch 10/10\n",
            "7500/7500 [==============================] - 0s 42us/step - loss: 0.0056 - acc: 0.9993\n"
          ],
          "name": "stdout"
        },
        {
          "output_type": "execute_result",
          "data": {
            "text/plain": [
              "<keras.callbacks.History at 0x7ff0081aa668>"
            ]
          },
          "metadata": {
            "tags": []
          },
          "execution_count": 49
        }
      ]
    },
    {
      "cell_type": "code",
      "metadata": {
        "id": "ac2dhWub8lGL",
        "colab_type": "code",
        "outputId": "00e9d316-273b-4155-8d8b-a3e9affe9431",
        "colab": {
          "base_uri": "https://localhost:8080/",
          "height": 51
        }
      },
      "source": [
        "model.evaluate(xtest, ytest)"
      ],
      "execution_count": 0,
      "outputs": [
        {
          "output_type": "stream",
          "text": [
            "2500/2500 [==============================] - 0s 27us/step\n"
          ],
          "name": "stdout"
        },
        {
          "output_type": "execute_result",
          "data": {
            "text/plain": [
              "[0.0015040767043828964, 1.0]"
            ]
          },
          "metadata": {
            "tags": []
          },
          "execution_count": 48
        }
      ]
    },
    {
      "cell_type": "code",
      "metadata": {
        "id": "biaJieEp-Dwu",
        "colab_type": "code",
        "outputId": "b3f1368d-9f45-4a02-9cad-f0d33ecbc8b8",
        "colab": {
          "base_uri": "https://localhost:8080/",
          "height": 374
        }
      },
      "source": [
        "model.fit(xtrain, ytrain, epochs=10)"
      ],
      "execution_count": 0,
      "outputs": [
        {
          "output_type": "stream",
          "text": [
            "Epoch 1/10\n",
            "7500/7500 [==============================] - 0s 41us/step - loss: 0.0011 - acc: 1.0000\n",
            "Epoch 2/10\n",
            "7500/7500 [==============================] - 0s 41us/step - loss: 0.0011 - acc: 1.0000\n",
            "Epoch 3/10\n",
            "7500/7500 [==============================] - 0s 43us/step - loss: 0.0011 - acc: 1.0000\n",
            "Epoch 4/10\n",
            "7500/7500 [==============================] - 0s 47us/step - loss: 0.0010 - acc: 1.0000\n",
            "Epoch 5/10\n",
            "7500/7500 [==============================] - 0s 44us/step - loss: 0.0010 - acc: 1.0000\n",
            "Epoch 6/10\n",
            "7500/7500 [==============================] - 0s 43us/step - loss: 9.9191e-04 - acc: 1.0000\n",
            "Epoch 7/10\n",
            "7500/7500 [==============================] - 0s 41us/step - loss: 9.6698e-04 - acc: 1.0000\n",
            "Epoch 8/10\n",
            "7500/7500 [==============================] - 0s 41us/step - loss: 9.4327e-04 - acc: 1.0000\n",
            "Epoch 9/10\n",
            "7500/7500 [==============================] - 0s 42us/step - loss: 9.2071e-04 - acc: 1.0000\n",
            "Epoch 10/10\n",
            "7500/7500 [==============================] - 0s 42us/step - loss: 8.9919e-04 - acc: 1.0000\n"
          ],
          "name": "stdout"
        },
        {
          "output_type": "execute_result",
          "data": {
            "text/plain": [
              "<keras.callbacks.History at 0x7ff00820cb70>"
            ]
          },
          "metadata": {
            "tags": []
          },
          "execution_count": 52
        }
      ]
    },
    {
      "cell_type": "code",
      "metadata": {
        "id": "SoBvxIGDAnWj",
        "colab_type": "code",
        "outputId": "a2a20715-c281-431e-aa72-7deeeced4c71",
        "colab": {
          "base_uri": "https://localhost:8080/",
          "height": 51
        }
      },
      "source": [
        "model.evaluate(xtest, ytest)"
      ],
      "execution_count": 0,
      "outputs": [
        {
          "output_type": "stream",
          "text": [
            "2500/2500 [==============================] - 0s 21us/step\n"
          ],
          "name": "stdout"
        },
        {
          "output_type": "execute_result",
          "data": {
            "text/plain": [
              "[0.0008904664864763617, 1.0]"
            ]
          },
          "metadata": {
            "tags": []
          },
          "execution_count": 53
        }
      ]
    },
    {
      "cell_type": "code",
      "metadata": {
        "id": "kNtH2S5fBUVl",
        "colab_type": "code",
        "colab": {}
      },
      "source": [
        ""
      ],
      "execution_count": 0,
      "outputs": []
    }
  ]
}