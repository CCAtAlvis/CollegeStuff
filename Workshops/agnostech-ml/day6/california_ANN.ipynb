{
  "nbformat": 4,
  "nbformat_minor": 0,
  "metadata": {
    "colab": {
      "name": "california_ANN.ipynb",
      "version": "0.3.2",
      "provenance": [],
      "include_colab_link": true
    },
    "kernelspec": {
      "name": "python3",
      "display_name": "Python 3"
    }
  },
  "cells": [
    {
      "cell_type": "markdown",
      "metadata": {
        "id": "view-in-github",
        "colab_type": "text"
      },
      "source": [
        "<a href=\"https://colab.research.google.com/github/CCAtAlvis/CollegeStuff/blob/master/Workshops/agnostech-ml/day6/california_ANN.ipynb\" target=\"_parent\"><img src=\"https://colab.research.google.com/assets/colab-badge.svg\" alt=\"Open In Colab\"/></a>"
      ]
    },
    {
      "cell_type": "code",
      "metadata": {
        "id": "7ZMaRFD6DZCh",
        "colab_type": "code",
        "outputId": "8dab9070-7b27-45da-d2fe-b12ff2a75576",
        "colab": {
          "base_uri": "https://localhost:8080/",
          "height": 34
        }
      },
      "source": [
        "from keras.models import Sequential\n",
        "from keras.layers import Dense, Activation\n",
        "from sklearn.model_selection import train_test_split\n",
        "\n",
        "import numpy as np\n",
        "import pandas as pd\n",
        "\n",
        "from sklearn.datasets import fetch_california_housing\n",
        "from sklearn.preprocessing import MinMaxScaler"
      ],
      "execution_count": 0,
      "outputs": [
        {
          "output_type": "stream",
          "text": [
            "Using TensorFlow backend.\n"
          ],
          "name": "stderr"
        }
      ]
    },
    {
      "cell_type": "code",
      "metadata": {
        "id": "J4ue9oGTEYdl",
        "colab_type": "code",
        "outputId": "2e7f06da-8934-4765-c77d-caeaa5c5c012",
        "colab": {
          "base_uri": "https://localhost:8080/",
          "height": 68
        }
      },
      "source": [
        "data = fetch_california_housing()"
      ],
      "execution_count": 0,
      "outputs": [
        {
          "output_type": "stream",
          "text": [
            "Downloading Cal. housing from https://ndownloader.figshare.com/files/5976036 to /root/scikit_learn_data\n",
            "WARNING: Logging before flag parsing goes to stderr.\n",
            "I0615 04:47:22.377522 139834116597632 california_housing.py:114] Downloading Cal. housing from https://ndownloader.figshare.com/files/5976036 to /root/scikit_learn_data\n"
          ],
          "name": "stderr"
        }
      ]
    },
    {
      "cell_type": "code",
      "metadata": {
        "id": "i_S3OtevLHF8",
        "colab_type": "code",
        "colab": {}
      },
      "source": [
        "scaler = MinMaxScaler()"
      ],
      "execution_count": 0,
      "outputs": []
    },
    {
      "cell_type": "code",
      "metadata": {
        "id": "51bQUTkH9DZs",
        "colab_type": "code",
        "colab": {}
      },
      "source": [
        "df = pd.DataFrame(\n",
        "    data=data.data,\n",
        "    columns=data.feature_names\n",
        ")\n",
        "df['target'] = data.target"
      ],
      "execution_count": 0,
      "outputs": []
    },
    {
      "cell_type": "code",
      "metadata": {
        "id": "LAwskPIweZ8J",
        "colab_type": "code",
        "colab": {}
      },
      "source": [
        "temp = scaler.fit_transform(df)"
      ],
      "execution_count": 0,
      "outputs": []
    },
    {
      "cell_type": "code",
      "metadata": {
        "id": "nmy1MKO2LMgL",
        "colab_type": "code",
        "outputId": "1ad8c5b7-3942-48e6-cc77-3eddf6b52ebb",
        "colab": {
          "base_uri": "https://localhost:8080/",
          "height": 34
        }
      },
      "source": [
        "temp.shape"
      ],
      "execution_count": 0,
      "outputs": [
        {
          "output_type": "execute_result",
          "data": {
            "text/plain": [
              "(20640, 9)"
            ]
          },
          "metadata": {
            "tags": []
          },
          "execution_count": 15
        }
      ]
    },
    {
      "cell_type": "code",
      "metadata": {
        "id": "uvDCOlff-LRw",
        "colab_type": "code",
        "colab": {}
      },
      "source": [
        "data.feature_names.append('target')\n",
        "df = pd.DataFrame(\n",
        "    data=temp,\n",
        "    columns=data.feature_names\n",
        ")"
      ],
      "execution_count": 0,
      "outputs": []
    },
    {
      "cell_type": "code",
      "metadata": {
        "id": "unh_V9sIE2RO",
        "colab_type": "code",
        "colab": {}
      },
      "source": [
        "x = df.\n",
        "xtrain, xtest, ytrain, ytest = train_test_split(x, y)"
      ],
      "execution_count": 0,
      "outputs": []
    },
    {
      "cell_type": "code",
      "metadata": {
        "id": "OsN2Jg8oGQYt",
        "colab_type": "code",
        "colab": {}
      },
      "source": [
        "model = Sequential()\n",
        "\n",
        "model.add(Dense(units=1, input_dim=8, activation=\"sigmoid\"))\n",
        "# model.add(Dense(units=8, activation=\"sigmoid\"))\n",
        "# model.add(Dense(units=1, activation=\"sigmoid\"))\n",
        "\n",
        "# model.add(Dense(units=1, input_dim=8, activation=\"linear\"))\n",
        "\n",
        "# model.add(Dense(units=2, input_dim=8, activation=\"linear\"))\n",
        "# model.add(Dense(units=1, activation=\"linear\"))\n",
        "\n",
        "model.compile(loss='binary_crossentropy', optimizer='sgd', metrics=['accuracy'])"
      ],
      "execution_count": 0,
      "outputs": []
    },
    {
      "cell_type": "code",
      "metadata": {
        "id": "ZaipmT4VHD7U",
        "colab_type": "code",
        "outputId": "85dc31f9-418a-4696-994c-6aeb746af184",
        "colab": {
          "base_uri": "https://localhost:8080/",
          "height": 3709
        }
      },
      "source": [
        "model.fit(xtrain, ytrain, epochs=100)"
      ],
      "execution_count": 0,
      "outputs": [
        {
          "output_type": "stream",
          "text": [
            "Epoch 1/100\n",
            "15480/15480 [==============================] - 1s 43us/step - loss: 0.6773 - acc: 1.9380e-04\n",
            "Epoch 2/100\n",
            "15480/15480 [==============================] - 0s 30us/step - loss: 0.6715 - acc: 1.9380e-04\n",
            "Epoch 3/100\n",
            "15480/15480 [==============================] - 0s 31us/step - loss: 0.6688 - acc: 1.9380e-04\n",
            "Epoch 4/100\n",
            "15480/15480 [==============================] - 0s 29us/step - loss: 0.6662 - acc: 1.9380e-04\n",
            "Epoch 5/100\n",
            "15480/15480 [==============================] - 0s 30us/step - loss: 0.6637 - acc: 1.9380e-04\n",
            "Epoch 6/100\n",
            "15480/15480 [==============================] - 0s 31us/step - loss: 0.6613 - acc: 1.9380e-04\n",
            "Epoch 7/100\n",
            "15480/15480 [==============================] - 0s 30us/step - loss: 0.6591 - acc: 1.9380e-04\n",
            "Epoch 8/100\n",
            "15480/15480 [==============================] - 0s 30us/step - loss: 0.6569 - acc: 1.9380e-04\n",
            "Epoch 9/100\n",
            "15480/15480 [==============================] - 0s 30us/step - loss: 0.6548 - acc: 9.0439e-04\n",
            "Epoch 10/100\n",
            "15480/15480 [==============================] - 0s 30us/step - loss: 0.6528 - acc: 0.0028\n",
            "Epoch 11/100\n",
            "15480/15480 [==============================] - 0s 30us/step - loss: 0.6509 - acc: 0.0045\n",
            "Epoch 12/100\n",
            "15480/15480 [==============================] - 0s 31us/step - loss: 0.6490 - acc: 0.0065\n",
            "Epoch 13/100\n",
            "15480/15480 [==============================] - 0s 30us/step - loss: 0.6473 - acc: 0.0091\n",
            "Epoch 14/100\n",
            "15480/15480 [==============================] - 0s 30us/step - loss: 0.6456 - acc: 0.0120\n",
            "Epoch 15/100\n",
            "15480/15480 [==============================] - 0s 30us/step - loss: 0.6440 - acc: 0.0144\n",
            "Epoch 16/100\n",
            "15480/15480 [==============================] - 0s 30us/step - loss: 0.6424 - acc: 0.0164\n",
            "Epoch 17/100\n",
            "15480/15480 [==============================] - 0s 30us/step - loss: 0.6409 - acc: 0.0181\n",
            "Epoch 18/100\n",
            "15480/15480 [==============================] - 0s 31us/step - loss: 0.6395 - acc: 0.0203\n",
            "Epoch 19/100\n",
            "15480/15480 [==============================] - 0s 30us/step - loss: 0.6381 - acc: 0.0215\n",
            "Epoch 20/100\n",
            "15480/15480 [==============================] - 0s 31us/step - loss: 0.6367 - acc: 0.0229\n",
            "Epoch 21/100\n",
            "15480/15480 [==============================] - 0s 30us/step - loss: 0.6354 - acc: 0.0244\n",
            "Epoch 22/100\n",
            "15480/15480 [==============================] - 0s 30us/step - loss: 0.6342 - acc: 0.0249\n",
            "Epoch 23/100\n",
            "15480/15480 [==============================] - 0s 29us/step - loss: 0.6330 - acc: 0.0258\n",
            "Epoch 24/100\n",
            "15480/15480 [==============================] - 0s 30us/step - loss: 0.6319 - acc: 0.0266\n",
            "Epoch 25/100\n",
            "15480/15480 [==============================] - 0s 29us/step - loss: 0.6308 - acc: 0.0276\n",
            "Epoch 26/100\n",
            "15480/15480 [==============================] - 0s 31us/step - loss: 0.6297 - acc: 0.0282\n",
            "Epoch 27/100\n",
            "15480/15480 [==============================] - 0s 30us/step - loss: 0.6287 - acc: 0.0291\n",
            "Epoch 28/100\n",
            "15480/15480 [==============================] - 0s 31us/step - loss: 0.6277 - acc: 0.0293\n",
            "Epoch 29/100\n",
            "15480/15480 [==============================] - 0s 31us/step - loss: 0.6267 - acc: 0.0303\n",
            "Epoch 30/100\n",
            "15480/15480 [==============================] - 0s 31us/step - loss: 0.6258 - acc: 0.0305\n",
            "Epoch 31/100\n",
            "15480/15480 [==============================] - 0s 31us/step - loss: 0.6249 - acc: 0.0308\n",
            "Epoch 32/100\n",
            "15480/15480 [==============================] - 0s 30us/step - loss: 0.6241 - acc: 0.0312\n",
            "Epoch 33/100\n",
            "15480/15480 [==============================] - 0s 30us/step - loss: 0.6232 - acc: 0.0313\n",
            "Epoch 34/100\n",
            "15480/15480 [==============================] - 0s 30us/step - loss: 0.6224 - acc: 0.0317\n",
            "Epoch 35/100\n",
            "15480/15480 [==============================] - 0s 30us/step - loss: 0.6217 - acc: 0.0321\n",
            "Epoch 36/100\n",
            "15480/15480 [==============================] - 0s 31us/step - loss: 0.6209 - acc: 0.0322\n",
            "Epoch 37/100\n",
            "15480/15480 [==============================] - 0s 30us/step - loss: 0.6202 - acc: 0.0322\n",
            "Epoch 38/100\n",
            "15480/15480 [==============================] - 0s 31us/step - loss: 0.6195 - acc: 0.0325\n",
            "Epoch 39/100\n",
            "15480/15480 [==============================] - 0s 30us/step - loss: 0.6188 - acc: 0.0328\n",
            "Epoch 40/100\n",
            "15480/15480 [==============================] - 0s 31us/step - loss: 0.6182 - acc: 0.0329\n",
            "Epoch 41/100\n",
            "15480/15480 [==============================] - 0s 31us/step - loss: 0.6176 - acc: 0.0329\n",
            "Epoch 42/100\n",
            "15480/15480 [==============================] - 0s 30us/step - loss: 0.6170 - acc: 0.0333\n",
            "Epoch 43/100\n",
            "15480/15480 [==============================] - 0s 31us/step - loss: 0.6164 - acc: 0.0333\n",
            "Epoch 44/100\n",
            "15480/15480 [==============================] - 0s 30us/step - loss: 0.6158 - acc: 0.0334\n",
            "Epoch 45/100\n",
            "15480/15480 [==============================] - 0s 31us/step - loss: 0.6153 - acc: 0.0338\n",
            "Epoch 46/100\n",
            "15480/15480 [==============================] - 0s 29us/step - loss: 0.6147 - acc: 0.0340\n",
            "Epoch 47/100\n",
            "15480/15480 [==============================] - 0s 30us/step - loss: 0.6142 - acc: 0.0340\n",
            "Epoch 48/100\n",
            "15480/15480 [==============================] - 0s 31us/step - loss: 0.6137 - acc: 0.0341\n",
            "Epoch 49/100\n",
            "15480/15480 [==============================] - 0s 30us/step - loss: 0.6132 - acc: 0.0345\n",
            "Epoch 50/100\n",
            "15480/15480 [==============================] - 0s 31us/step - loss: 0.6128 - acc: 0.0348\n",
            "Epoch 51/100\n",
            "15480/15480 [==============================] - 0s 30us/step - loss: 0.6123 - acc: 0.0347\n",
            "Epoch 52/100\n",
            "15480/15480 [==============================] - 0s 30us/step - loss: 0.6119 - acc: 0.0350\n",
            "Epoch 53/100\n",
            "15480/15480 [==============================] - 0s 30us/step - loss: 0.6114 - acc: 0.0350\n",
            "Epoch 54/100\n",
            "15480/15480 [==============================] - 0s 30us/step - loss: 0.6110 - acc: 0.0351\n",
            "Epoch 55/100\n",
            "15480/15480 [==============================] - 0s 29us/step - loss: 0.6106 - acc: 0.0352\n",
            "Epoch 56/100\n",
            "15480/15480 [==============================] - 0s 30us/step - loss: 0.6102 - acc: 0.0355\n",
            "Epoch 57/100\n",
            "15480/15480 [==============================] - 0s 29us/step - loss: 0.6099 - acc: 0.0355\n",
            "Epoch 58/100\n",
            "15480/15480 [==============================] - 0s 29us/step - loss: 0.6095 - acc: 0.0358\n",
            "Epoch 59/100\n",
            "15480/15480 [==============================] - 0s 30us/step - loss: 0.6091 - acc: 0.0358\n",
            "Epoch 60/100\n",
            "15480/15480 [==============================] - 0s 30us/step - loss: 0.6088 - acc: 0.0359\n",
            "Epoch 61/100\n",
            "15480/15480 [==============================] - 0s 29us/step - loss: 0.6085 - acc: 0.0360\n",
            "Epoch 62/100\n",
            "15480/15480 [==============================] - 0s 30us/step - loss: 0.6082 - acc: 0.0360\n",
            "Epoch 63/100\n",
            "15480/15480 [==============================] - 0s 29us/step - loss: 0.6078 - acc: 0.0360\n",
            "Epoch 64/100\n",
            "15480/15480 [==============================] - 0s 31us/step - loss: 0.6075 - acc: 0.0361\n",
            "Epoch 65/100\n",
            "15480/15480 [==============================] - 0s 31us/step - loss: 0.6072 - acc: 0.0361\n",
            "Epoch 66/100\n",
            "15480/15480 [==============================] - 0s 30us/step - loss: 0.6070 - acc: 0.0362\n",
            "Epoch 67/100\n",
            "15480/15480 [==============================] - 0s 31us/step - loss: 0.6067 - acc: 0.0361\n",
            "Epoch 68/100\n",
            "15480/15480 [==============================] - 0s 30us/step - loss: 0.6064 - acc: 0.0364\n",
            "Epoch 69/100\n",
            "15480/15480 [==============================] - 0s 31us/step - loss: 0.6061 - acc: 0.0366\n",
            "Epoch 70/100\n",
            "15480/15480 [==============================] - 0s 30us/step - loss: 0.6059 - acc: 0.0366\n",
            "Epoch 71/100\n",
            "15480/15480 [==============================] - 0s 29us/step - loss: 0.6056 - acc: 0.0366\n",
            "Epoch 72/100\n",
            "15480/15480 [==============================] - 0s 31us/step - loss: 0.6054 - acc: 0.0368\n",
            "Epoch 73/100\n",
            "15480/15480 [==============================] - 0s 32us/step - loss: 0.6052 - acc: 0.0369\n",
            "Epoch 74/100\n",
            "15480/15480 [==============================] - 0s 29us/step - loss: 0.6049 - acc: 0.0370\n",
            "Epoch 75/100\n",
            "15480/15480 [==============================] - 0s 30us/step - loss: 0.6047 - acc: 0.0369\n",
            "Epoch 76/100\n",
            "15480/15480 [==============================] - 0s 32us/step - loss: 0.6045 - acc: 0.0370\n",
            "Epoch 77/100\n",
            "15480/15480 [==============================] - 1s 32us/step - loss: 0.6043 - acc: 0.0370\n",
            "Epoch 78/100\n",
            "15480/15480 [==============================] - 1s 32us/step - loss: 0.6041 - acc: 0.0371\n",
            "Epoch 79/100\n",
            "15480/15480 [==============================] - 1s 32us/step - loss: 0.6039 - acc: 0.0370\n",
            "Epoch 80/100\n",
            "15480/15480 [==============================] - 0s 32us/step - loss: 0.6037 - acc: 0.0372\n",
            "Epoch 81/100\n",
            "15480/15480 [==============================] - 0s 32us/step - loss: 0.6035 - acc: 0.0371\n",
            "Epoch 82/100\n",
            "15480/15480 [==============================] - 1s 32us/step - loss: 0.6033 - acc: 0.0373\n",
            "Epoch 83/100\n",
            "15480/15480 [==============================] - 1s 33us/step - loss: 0.6031 - acc: 0.0373\n",
            "Epoch 84/100\n",
            "15480/15480 [==============================] - 0s 32us/step - loss: 0.6030 - acc: 0.0373\n",
            "Epoch 85/100\n",
            "15480/15480 [==============================] - 0s 32us/step - loss: 0.6028 - acc: 0.0373\n",
            "Epoch 86/100\n",
            "15480/15480 [==============================] - 0s 32us/step - loss: 0.6026 - acc: 0.0373\n",
            "Epoch 87/100\n",
            "15480/15480 [==============================] - 0s 32us/step - loss: 0.6025 - acc: 0.0373\n",
            "Epoch 88/100\n",
            "15480/15480 [==============================] - 0s 30us/step - loss: 0.6023 - acc: 0.0373\n",
            "Epoch 89/100\n",
            "15480/15480 [==============================] - 0s 30us/step - loss: 0.6022 - acc: 0.0373\n",
            "Epoch 90/100\n",
            "15480/15480 [==============================] - 0s 31us/step - loss: 0.6020 - acc: 0.0373\n",
            "Epoch 91/100\n",
            "15480/15480 [==============================] - 0s 31us/step - loss: 0.6019 - acc: 0.0373\n",
            "Epoch 92/100\n",
            "15480/15480 [==============================] - 0s 30us/step - loss: 0.6017 - acc: 0.0374\n",
            "Epoch 93/100\n",
            "15480/15480 [==============================] - 0s 31us/step - loss: 0.6016 - acc: 0.0374\n",
            "Epoch 94/100\n",
            "15480/15480 [==============================] - 1s 33us/step - loss: 0.6015 - acc: 0.0374\n",
            "Epoch 95/100\n",
            "15480/15480 [==============================] - 0s 31us/step - loss: 0.6013 - acc: 0.0375\n",
            "Epoch 96/100\n",
            "15480/15480 [==============================] - 0s 32us/step - loss: 0.6012 - acc: 0.0375\n",
            "Epoch 97/100\n",
            "15480/15480 [==============================] - 0s 31us/step - loss: 0.6011 - acc: 0.0375\n",
            "Epoch 98/100\n",
            "15480/15480 [==============================] - 0s 31us/step - loss: 0.6010 - acc: 0.0375\n",
            "Epoch 99/100\n",
            "15480/15480 [==============================] - 0s 30us/step - loss: 0.6009 - acc: 0.0376\n",
            "Epoch 100/100\n",
            "15480/15480 [==============================] - 0s 30us/step - loss: 0.6007 - acc: 0.0375\n"
          ],
          "name": "stdout"
        },
        {
          "output_type": "execute_result",
          "data": {
            "text/plain": [
              "<keras.callbacks.History at 0x7f2592ccff28>"
            ]
          },
          "metadata": {
            "tags": []
          },
          "execution_count": 31
        }
      ]
    },
    {
      "cell_type": "code",
      "metadata": {
        "id": "Mv-__iGSINBW",
        "colab_type": "code",
        "outputId": "d164fd8b-04b6-4f15-a0c1-4a5293b5bcb7",
        "colab": {
          "base_uri": "https://localhost:8080/",
          "height": 54
        }
      },
      "source": [
        "model.evaluate(xtest, ytest)"
      ],
      "execution_count": 0,
      "outputs": [
        {
          "output_type": "stream",
          "text": [
            "5160/5160 [==============================] - 0s 25us/step\n"
          ],
          "name": "stdout"
        },
        {
          "output_type": "execute_result",
          "data": {
            "text/plain": [
              "[0.6703530078710511, 0.0001937984496124031]"
            ]
          },
          "metadata": {
            "tags": []
          },
          "execution_count": 24
        }
      ]
    },
    {
      "cell_type": "code",
      "metadata": {
        "id": "cG4rQpjNMQB0",
        "colab_type": "code",
        "colab": {}
      },
      "source": [
        ""
      ],
      "execution_count": 0,
      "outputs": []
    }
  ]
}