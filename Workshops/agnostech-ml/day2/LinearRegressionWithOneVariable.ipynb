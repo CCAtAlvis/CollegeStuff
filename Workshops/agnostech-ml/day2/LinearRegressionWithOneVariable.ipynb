{
 "cells": [
  {
   "cell_type": "code",
   "execution_count": 1,
   "metadata": {},
   "outputs": [
    {
     "name": "stderr",
     "output_type": "stream",
     "text": [
      "/home/test/miniconda3/envs/newml/lib/python3.7/importlib/_bootstrap.py:219: RuntimeWarning: numpy.ufunc size changed, may indicate binary incompatibility. Expected 192 from C header, got 216 from PyObject\n",
      "  return f(*args, **kwds)\n",
      "/home/test/miniconda3/envs/newml/lib/python3.7/importlib/_bootstrap.py:219: RuntimeWarning: numpy.ufunc size changed, may indicate binary incompatibility. Expected 192 from C header, got 216 from PyObject\n",
      "  return f(*args, **kwds)\n"
     ]
    }
   ],
   "source": [
    "import numpy as np\n",
    "import pandas as pd\n",
    "from matplotlib import pyplot as pl\n",
    "import sklearn as sk\n"
   ]
  },
  {
   "cell_type": "markdown",
   "metadata": {},
   "source": [
    "# DATA\n",
    "\n",
    "$J(\\theta) = \\frac{1}{2n} \\sum_{i=0}^n (h_\\theta(x_i) - y_i)^2$"
   ]
  },
  {
   "cell_type": "code",
   "execution_count": 2,
   "metadata": {},
   "outputs": [],
   "source": [
    "from sklearn.datasets import make_regression as mr"
   ]
  },
  {
   "cell_type": "code",
   "execution_count": 3,
   "metadata": {},
   "outputs": [
    {
     "ename": "NameError",
     "evalue": "name 'make_regression' is not defined",
     "output_type": "error",
     "traceback": [
      "\u001b[0;31m---------------------------------------------------------------------------\u001b[0m",
      "\u001b[0;31mNameError\u001b[0m                                 Traceback (most recent call last)",
      "\u001b[0;32m<ipython-input-3-014715cb54e7>\u001b[0m in \u001b[0;36m<module>\u001b[0;34m\u001b[0m\n\u001b[0;32m----> 1\u001b[0;31m \u001b[0mmake_regression\u001b[0m\u001b[0;34m(\u001b[0m\u001b[0;34m)\u001b[0m\u001b[0;34m\u001b[0m\u001b[0;34m\u001b[0m\u001b[0m\n\u001b[0m",
      "\u001b[0;31mNameError\u001b[0m: name 'make_regression' is not defined"
     ]
    }
   ],
   "source": [
    "make_regression()"
   ]
  },
  {
   "cell_type": "code",
   "execution_count": 4,
   "metadata": {},
   "outputs": [
    {
     "data": {
      "text/plain": [
       "(array([[ 1.3578471 , -1.24273602,  0.10191196, ..., -0.28096792,\n",
       "         -1.7061278 ,  1.62271744],\n",
       "        [ 0.61717652,  0.70553506,  1.00042058, ...,  1.71544385,\n",
       "          1.99981963,  0.42571882],\n",
       "        [ 1.7315473 , -0.81663521,  1.11467316, ...,  1.66038511,\n",
       "          0.72585332,  1.10086029],\n",
       "        ...,\n",
       "        [ 0.39001455,  1.00892914, -1.22144123, ..., -1.10726683,\n",
       "          0.86342031,  2.38442804],\n",
       "        [ 0.51285785, -0.41174875,  0.61120974, ...,  0.04379186,\n",
       "          0.3669969 , -1.46196057],\n",
       "        [ 0.01409297,  0.17979626, -0.84255725, ..., -0.21001784,\n",
       "          0.68328522, -1.11870692]]),\n",
       " array([-1.41884066e+02, -6.22968135e+01,  4.17173273e+02, -1.60293617e+02,\n",
       "         3.51478713e+02, -2.19021012e+02, -5.67823114e+01,  3.06425549e+01,\n",
       "         4.86098746e+01, -2.90400169e+02,  3.06717226e+02,  1.45175231e+02,\n",
       "         3.59175383e+02,  1.53351106e+02, -7.54560304e+01,  6.28900532e+01,\n",
       "        -5.98277407e+01,  3.18590046e+02, -7.12571633e+01,  9.18720863e+01,\n",
       "         1.13973568e+02,  1.56857857e+02, -3.81766430e+01, -5.74921281e+01,\n",
       "        -6.60648512e+01, -2.76385025e+02,  1.62442180e+02, -5.23365854e+01,\n",
       "        -8.02337598e+01,  2.67757671e+02,  3.94444952e+02,  1.38264798e+02,\n",
       "        -6.58523506e+01, -2.34130180e+02, -5.87768482e+01, -1.97077886e+01,\n",
       "         9.70370358e+01,  1.52775821e+02, -1.41694821e+02, -2.43701378e+02,\n",
       "         3.47034141e+02, -1.27377719e+01,  6.77232536e+00,  1.07796583e+02,\n",
       "        -1.72343948e+02, -8.67814379e+01,  1.25526407e+02,  3.36320424e+01,\n",
       "        -1.02309020e+02, -9.53398412e+01, -5.02355721e+01,  8.37849882e+01,\n",
       "        -8.66233505e+01,  1.51548353e+02,  2.56039808e+02,  6.10040524e+01,\n",
       "         2.55611551e+02, -2.39470296e+01,  2.31712578e+02, -2.46370495e+02,\n",
       "        -2.29883866e+01, -1.45994459e+02,  3.20752767e+02,  6.15586334e+01,\n",
       "         1.18288558e+02,  1.21143673e+02,  5.21112735e+01, -2.02901557e+02,\n",
       "         1.18197703e+02, -1.40259970e+02,  8.11591878e+01,  2.16390366e+01,\n",
       "        -1.20162759e+02, -3.27711687e+01,  7.68638232e+01,  1.75104676e+02,\n",
       "        -1.28128770e+02,  2.01410426e+02, -3.05700440e+01, -2.77341459e+01,\n",
       "         6.80103641e+01, -9.09900640e+01,  7.16487275e+01,  2.31519627e+02,\n",
       "        -2.47430380e+02, -1.40052717e+02, -1.46492733e+02,  4.09863330e+01,\n",
       "         9.30356110e+01, -1.43581096e+02,  1.95040837e+02, -4.34912310e-01,\n",
       "         2.54147646e+02,  1.33030986e+02,  4.39272791e+02, -4.14467793e+01,\n",
       "         5.48227171e+01,  9.61323914e+01,  7.11616345e+01,  8.14288415e+01]))"
      ]
     },
     "execution_count": 4,
     "metadata": {},
     "output_type": "execute_result"
    }
   ],
   "source": [
    "mr()"
   ]
  },
  {
   "cell_type": "code",
   "execution_count": 5,
   "metadata": {},
   "outputs": [
    {
     "ename": "TypeError",
     "evalue": "make_regression() got an unexpected keyword argument 'samples'",
     "output_type": "error",
     "traceback": [
      "\u001b[0;31m---------------------------------------------------------------------------\u001b[0m",
      "\u001b[0;31mTypeError\u001b[0m                                 Traceback (most recent call last)",
      "\u001b[0;32m<ipython-input-5-e92689687e9b>\u001b[0m in \u001b[0;36m<module>\u001b[0;34m\u001b[0m\n\u001b[0;32m----> 1\u001b[0;31m \u001b[0mx\u001b[0m\u001b[0;34m,\u001b[0m \u001b[0my\u001b[0m \u001b[0;34m=\u001b[0m \u001b[0mmr\u001b[0m\u001b[0;34m(\u001b[0m\u001b[0msamples\u001b[0m\u001b[0;34m=\u001b[0m\u001b[0;36m100\u001b[0m\u001b[0;34m)\u001b[0m\u001b[0;34m\u001b[0m\u001b[0;34m\u001b[0m\u001b[0m\n\u001b[0m",
      "\u001b[0;31mTypeError\u001b[0m: make_regression() got an unexpected keyword argument 'samples'"
     ]
    }
   ],
   "source": [
    "x, y = mr(samples=100)"
   ]
  },
  {
   "cell_type": "code",
   "execution_count": 6,
   "metadata": {},
   "outputs": [],
   "source": [
    "x, y = mr(n_samples=100, n_features=2, noise=0.0)"
   ]
  },
  {
   "cell_type": "code",
   "execution_count": 7,
   "metadata": {},
   "outputs": [],
   "source": [
    "x, y = mr(n_samples=100, n_features=1, noise=0.0)"
   ]
  },
  {
   "cell_type": "code",
   "execution_count": 8,
   "metadata": {},
   "outputs": [
    {
     "data": {
      "text/plain": [
       "array([ -19.13597432,   56.22275869,  130.59184613,   62.11784536,\n",
       "        -59.39867399, -199.32889719,  100.00154861,   66.88296705,\n",
       "         12.76009476,   65.92224485,  101.46168431,  -79.66163662,\n",
       "         60.66323175,  108.62623882,  115.55478184, -112.9897558 ,\n",
       "         19.20319177,  -10.49630005, -189.27323182,   79.3483407 ,\n",
       "         35.71629342,  -30.46297254,  -70.73260425, -166.47094788,\n",
       "        -10.81578883,   89.27033535,   36.00679935,  123.90575868,\n",
       "       -108.67666469,  -15.19064057,   33.10459102,    2.38008576,\n",
       "         75.15010383,   92.62215706,  -99.5538758 ,  133.36221279,\n",
       "        -56.53440217,  -81.09745366,  -36.26317821,    5.29675975,\n",
       "         23.73690967,   10.51374574,   10.06398119,   41.18644078,\n",
       "          8.48086297,   92.33190961,  -67.31432766, -116.99461015,\n",
       "       -174.84442379,   -2.18556532,    0.56601926,  -92.97113367,\n",
       "         24.8125674 ,  -12.78835467,  -23.6867422 ,  121.27062379,\n",
       "         44.95325384,   55.1926129 ,  117.72490426,  -34.1076259 ,\n",
       "         18.06109773,  -82.726     ,  -94.46630407, -209.26340031,\n",
       "       -108.31173122,  -18.31241477,   41.62443225,  -22.5542184 ,\n",
       "         -8.99332877,   49.74969363,  -72.38407929,   49.45233722,\n",
       "        -29.95878027,  -42.28474628,  -61.60406747,   61.94378998,\n",
       "        -55.98622325,  164.60805815,   46.66013606,  331.79783938,\n",
       "         -8.92852906,   53.56008565,  121.23363676,  -62.71613363,\n",
       "         14.65393031,  111.989582  ,  -98.14229377,   46.38603223,\n",
       "        -35.02266802,  231.26704227,   41.05609106,  -29.50682948,\n",
       "        110.65191415,  -31.42030734,   -7.49809652,  -81.62107097,\n",
       "        -67.79506767,   90.8728054 ,  150.12575663,    6.43502021])"
      ]
     },
     "execution_count": 8,
     "metadata": {},
     "output_type": "execute_result"
    }
   ],
   "source": [
    "x\n",
    "y"
   ]
  },
  {
   "cell_type": "code",
   "execution_count": 9,
   "metadata": {},
   "outputs": [
    {
     "data": {
      "text/plain": [
       "array([ -19.13597432,   56.22275869,  130.59184613,   62.11784536,\n",
       "        -59.39867399, -199.32889719,  100.00154861,   66.88296705,\n",
       "         12.76009476,   65.92224485,  101.46168431,  -79.66163662,\n",
       "         60.66323175,  108.62623882,  115.55478184, -112.9897558 ,\n",
       "         19.20319177,  -10.49630005, -189.27323182,   79.3483407 ,\n",
       "         35.71629342,  -30.46297254,  -70.73260425, -166.47094788,\n",
       "        -10.81578883,   89.27033535,   36.00679935,  123.90575868,\n",
       "       -108.67666469,  -15.19064057,   33.10459102,    2.38008576,\n",
       "         75.15010383,   92.62215706,  -99.5538758 ,  133.36221279,\n",
       "        -56.53440217,  -81.09745366,  -36.26317821,    5.29675975,\n",
       "         23.73690967,   10.51374574,   10.06398119,   41.18644078,\n",
       "          8.48086297,   92.33190961,  -67.31432766, -116.99461015,\n",
       "       -174.84442379,   -2.18556532,    0.56601926,  -92.97113367,\n",
       "         24.8125674 ,  -12.78835467,  -23.6867422 ,  121.27062379,\n",
       "         44.95325384,   55.1926129 ,  117.72490426,  -34.1076259 ,\n",
       "         18.06109773,  -82.726     ,  -94.46630407, -209.26340031,\n",
       "       -108.31173122,  -18.31241477,   41.62443225,  -22.5542184 ,\n",
       "         -8.99332877,   49.74969363,  -72.38407929,   49.45233722,\n",
       "        -29.95878027,  -42.28474628,  -61.60406747,   61.94378998,\n",
       "        -55.98622325,  164.60805815,   46.66013606,  331.79783938,\n",
       "         -8.92852906,   53.56008565,  121.23363676,  -62.71613363,\n",
       "         14.65393031,  111.989582  ,  -98.14229377,   46.38603223,\n",
       "        -35.02266802,  231.26704227,   41.05609106,  -29.50682948,\n",
       "        110.65191415,  -31.42030734,   -7.49809652,  -81.62107097,\n",
       "        -67.79506767,   90.8728054 ,  150.12575663,    6.43502021])"
      ]
     },
     "execution_count": 9,
     "metadata": {},
     "output_type": "execute_result"
    }
   ],
   "source": [
    "y"
   ]
  },
  {
   "cell_type": "code",
   "execution_count": 10,
   "metadata": {},
   "outputs": [],
   "source": [
    "x, y = mr(n_samples=100, n_features=1, noise=0.0)"
   ]
  },
  {
   "cell_type": "code",
   "execution_count": 11,
   "metadata": {},
   "outputs": [
    {
     "data": {
      "image/png": "[encoded data removed]",
      "text/plain": [
       "<Figure size 432x288 with 1 Axes>"
      ]
     },
     "metadata": {
      "needs_background": "light"
     },
     "output_type": "display_data"
    }
   ],
   "source": [
    "pl.scatter(x,y)\n",
    "pl.show()"
   ]
  },
  {
   "cell_type": "code",
   "execution_count": 12,
   "metadata": {},
   "outputs": [
    {
     "data": {
      "image/png": "[encoded data removed]",
      "text/plain": [
       "<Figure size 432x288 with 1 Axes>"
      ]
     },
     "metadata": {
      "needs_background": "light"
     },
     "output_type": "display_data"
    }
   ],
   "source": [
    "x, y = mr(n_samples=100, n_features=1, noise=1.0)\n",
    "pl.scatter(x,y)\n",
    "pl.show()"
   ]
  },
  {
   "cell_type": "code",
   "execution_count": 14,
   "metadata": {},
   "outputs": [
    {
     "data": {
      "image/png": "[encoded data removed]",
      "text/plain": [
       "<Figure size 432x288 with 1 Axes>"
      ]
     },
     "metadata": {
      "needs_background": "light"
     },
     "output_type": "display_data"
    }
   ],
   "source": [
    "x, y = mr(n_samples=100, n_features=1, noise=110.0)\n",
    "pl.scatter(x,y)\n",
    "pl.show()"
   ]
  },
  {
   "cell_type": "code",
   "execution_count": 16,
   "metadata": {},
   "outputs": [],
   "source": [
    "x, y = mr(n_samples=100, n_features=1, noise=15.0, random_state=1)"
   ]
  },
  {
   "cell_type": "code",
   "execution_count": 17,
   "metadata": {},
   "outputs": [
    {
     "data": {
      "image/png": "[encoded data removed]",
      "text/plain": [
       "<Figure size 432x288 with 1 Axes>"
      ]
     },
     "metadata": {
      "needs_background": "light"
     },
     "output_type": "display_data"
    }
   ],
   "source": [
    "pl.scatter(x,y)\n",
    "pl.show()"
   ]
  },
  {
   "cell_type": "code",
   "execution_count": 18,
   "metadata": {},
   "outputs": [
    {
     "data": {
      "image/png": "[encoded data removed]",
      "text/plain": [
       "<Figure size 432x288 with 1 Axes>"
      ]
     },
     "metadata": {
      "needs_background": "light"
     },
     "output_type": "display_data"
    }
   ],
   "source": [
    "x, y = mr(n_samples=100, n_features=1, noise=15.0, random_state=1)\n",
    "pl.scatter(x,y)\n",
    "pl.show()"
   ]
  },
  {
   "cell_type": "code",
   "execution_count": 19,
   "metadata": {},
   "outputs": [
    {
     "data": {
      "image/png": "[encoded data removed]",
      "text/plain": [
       "<Figure size 432x288 with 1 Axes>"
      ]
     },
     "metadata": {
      "needs_background": "light"
     },
     "output_type": "display_data"
    }
   ],
   "source": [
    "x, y = mr(n_samples=100, n_features=1, noise=35.0, random_state=1)\n",
    "pl.scatter(x,y)\n",
    "pl.show()"
   ]
  },
  {
   "cell_type": "code",
   "execution_count": 20,
   "metadata": {},
   "outputs": [
    {
     "data": {
      "image/png": "[encoded data removed]",
      "text/plain": [
       "<Figure size 432x288 with 1 Axes>"
      ]
     },
     "metadata": {
      "needs_background": "light"
     },
     "output_type": "display_data"
    }
   ],
   "source": [
    "x, y = mr(n_samples=100, n_features=1, noise=35.0, random_state=2)\n",
    "pl.scatter(x,y)\n",
    "pl.show()"
   ]
  },
  {
   "cell_type": "code",
   "execution_count": 21,
   "metadata": {},
   "outputs": [],
   "source": [
    "from sklearn.linear_model import LinearRegression"
   ]
  },
  {
   "cell_type": "code",
   "execution_count": 22,
   "metadata": {},
   "outputs": [],
   "source": [
    "lr = LinearRegression()"
   ]
  },
  {
   "cell_type": "code",
   "execution_count": 23,
   "metadata": {},
   "outputs": [
    {
     "data": {
      "text/plain": [
       "LinearRegression(copy_X=True, fit_intercept=True, n_jobs=None, normalize=False)"
      ]
     },
     "execution_count": 23,
     "metadata": {},
     "output_type": "execute_result"
    }
   ],
   "source": [
    "lr.fit(x,y)"
   ]
  },
  {
   "cell_type": "code",
   "execution_count": 24,
   "metadata": {
    "scrolled": true
   },
   "outputs": [
    {
     "name": "stdout",
     "output_type": "stream",
     "text": [
      "[[-8.78107893e-01]\n",
      " [ 1.35963386e+00]\n",
      " [ 1.64027081e+00]\n",
      " [ 5.42352572e-01]\n",
      " [ 8.24703005e-01]\n",
      " [-5.96159700e-01]\n",
      " [-5.62668272e-02]\n",
      " [-1.32328898e-01]\n",
      " [-2.43476758e+00]\n",
      " [-4.03892269e-01]\n",
      " [ 3.81866234e-01]\n",
      " [ 1.36723542e+00]\n",
      " [-7.47870949e-01]\n",
      " [-3.81516482e-01]\n",
      " [ 8.42456282e-01]\n",
      " [-7.72186654e-02]\n",
      " [ 4.33496330e-01]\n",
      " [-2.17135269e-01]\n",
      " [ 1.46767801e+00]\n",
      " [ 1.12726505e-01]\n",
      " [ 1.73118467e+00]\n",
      " [-3.35677339e-01]\n",
      " [-1.09873895e+00]\n",
      " [-8.41747366e-01]\n",
      " [ 5.66275441e-01]\n",
      " [-1.05795222e+00]\n",
      " [ 6.95119605e-01]\n",
      " [ 5.39058321e-01]\n",
      " [ 5.01857207e-01]\n",
      " [-1.43943903e+00]\n",
      " [-1.89469265e-01]\n",
      " [-7.44707629e-02]\n",
      " [-1.79343559e+00]\n",
      " [ 2.23136679e+00]\n",
      " [ 4.15393930e-02]\n",
      " [ 1.17353150e+00]\n",
      " [-1.38451867e+00]\n",
      " [ 2.16116006e-01]\n",
      " [-9.14526229e-02]\n",
      " [ 1.27837923e+00]\n",
      " [-2.13619610e+00]\n",
      " [-2.36184031e-01]\n",
      " [-1.85861239e+00]\n",
      " [ 3.26003433e-01]\n",
      " [ 9.76147160e-06]\n",
      " [-3.75669423e-01]\n",
      " [ 1.04082395e+00]\n",
      " [-3.38821966e-01]\n",
      " [-6.77675577e-01]\n",
      " [ 1.21788563e+00]\n",
      " [-1.24528809e+00]\n",
      " [-8.29135289e-01]\n",
      " [-4.19316482e-01]\n",
      " [ 3.80471970e-01]\n",
      " [-1.86809065e+00]\n",
      " [ 1.58448706e+00]\n",
      " [ 6.11340780e-01]\n",
      " [ 1.00036589e+00]\n",
      " [-9.09007615e-01]\n",
      " [-3.95702397e-02]\n",
      " [-1.91304965e-02]\n",
      " [-1.42121723e+00]\n",
      " [ 3.50888494e-01]\n",
      " [-9.88779049e-01]\n",
      " [ 4.62555231e-02]\n",
      " [-3.81092518e-01]\n",
      " [ 7.35279576e-01]\n",
      " [-6.37655012e-01]\n",
      " [-2.65944946e+00]\n",
      " [-4.16757847e-01]\n",
      " [ 2.56570452e-01]\n",
      " [ 3.70444537e-01]\n",
      " [-6.34679305e-01]\n",
      " [ 4.79705919e-02]\n",
      " [-2.34360319e+00]\n",
      " [ 5.08396243e-01]\n",
      " [-6.53250268e-01]\n",
      " [-8.44213704e-01]\n",
      " [-4.62005348e-01]\n",
      " [ 2.04207979e-01]\n",
      " [ 5.02881417e-01]\n",
      " [-2.69056960e-01]\n",
      " [-1.11792545e+00]\n",
      " [ 5.24296430e-01]\n",
      " [ 8.77102184e-02]\n",
      " [ 5.51454045e-01]\n",
      " [-2.03346655e+00]\n",
      " [-3.13508197e-01]\n",
      " [ 1.17500122e+00]\n",
      " [ 6.64890091e-02]\n",
      " [ 1.24821292e+00]\n",
      " [-1.18761229e+00]\n",
      " [ 1.40669624e+00]\n",
      " [-1.56434170e-01]\n",
      " [ 2.29220801e+00]\n",
      " [-1.73795950e+00]\n",
      " [-2.04032305e+00]\n",
      " [ 7.71011738e-01]\n",
      " [ 9.02525097e-03]\n",
      " [-1.53495196e-01]]\n"
     ]
    }
   ],
   "source": [
    "print(x)"
   ]
  },
  {
   "cell_type": "code",
   "execution_count": 25,
   "metadata": {},
   "outputs": [
    {
     "data": {
      "text/plain": [
       "array([56.07449315])"
      ]
     },
     "execution_count": 25,
     "metadata": {},
     "output_type": "execute_result"
    }
   ],
   "source": [
    "lr.coef_"
   ]
  },
  {
   "cell_type": "code",
   "execution_count": 26,
   "metadata": {},
   "outputs": [
    {
     "ename": "ValueError",
     "evalue": "Expected 2D array, got scalar array instead:\narray=5.\nReshape your data either using array.reshape(-1, 1) if your data has a single feature or array.reshape(1, -1) if it contains a single sample.",
     "output_type": "error",
     "traceback": [
      "\u001b[0;31m---------------------------------------------------------------------------\u001b[0m",
      "\u001b[0;31mValueError\u001b[0m                                Traceback (most recent call last)",
      "\u001b[0;32m<ipython-input-26-0e0d0dd07c0b>\u001b[0m in \u001b[0;36m<module>\u001b[0;34m\u001b[0m\n\u001b[0;32m----> 1\u001b[0;31m \u001b[0mlr\u001b[0m\u001b[0;34m.\u001b[0m\u001b[0mpredict\u001b[0m\u001b[0;34m(\u001b[0m\u001b[0;36m5\u001b[0m\u001b[0;34m)\u001b[0m\u001b[0;34m\u001b[0m\u001b[0;34m\u001b[0m\u001b[0m\n\u001b[0m",
      "\u001b[0;32m~/miniconda3/envs/newml/lib/python3.7/site-packages/sklearn/linear_model/base.py\u001b[0m in \u001b[0;36mpredict\u001b[0;34m(self, X)\u001b[0m\n\u001b[1;32m    219\u001b[0m             \u001b[0mReturns\u001b[0m \u001b[0mpredicted\u001b[0m \u001b[0mvalues\u001b[0m\u001b[0;34m.\u001b[0m\u001b[0;34m\u001b[0m\u001b[0;34m\u001b[0m\u001b[0m\n\u001b[1;32m    220\u001b[0m         \"\"\"\n\u001b[0;32m--> 221\u001b[0;31m         \u001b[0;32mreturn\u001b[0m \u001b[0mself\u001b[0m\u001b[0;34m.\u001b[0m\u001b[0m_decision_function\u001b[0m\u001b[0;34m(\u001b[0m\u001b[0mX\u001b[0m\u001b[0;34m)\u001b[0m\u001b[0;34m\u001b[0m\u001b[0;34m\u001b[0m\u001b[0m\n\u001b[0m\u001b[1;32m    222\u001b[0m \u001b[0;34m\u001b[0m\u001b[0m\n\u001b[1;32m    223\u001b[0m     \u001b[0m_preprocess_data\u001b[0m \u001b[0;34m=\u001b[0m \u001b[0mstaticmethod\u001b[0m\u001b[0;34m(\u001b[0m\u001b[0m_preprocess_data\u001b[0m\u001b[0;34m)\u001b[0m\u001b[0;34m\u001b[0m\u001b[0;34m\u001b[0m\u001b[0m\n",
      "\u001b[0;32m~/miniconda3/envs/newml/lib/python3.7/site-packages/sklearn/linear_model/base.py\u001b[0m in \u001b[0;36m_decision_function\u001b[0;34m(self, X)\u001b[0m\n\u001b[1;32m    202\u001b[0m         \u001b[0mcheck_is_fitted\u001b[0m\u001b[0;34m(\u001b[0m\u001b[0mself\u001b[0m\u001b[0;34m,\u001b[0m \u001b[0;34m\"coef_\"\u001b[0m\u001b[0;34m)\u001b[0m\u001b[0;34m\u001b[0m\u001b[0;34m\u001b[0m\u001b[0m\n\u001b[1;32m    203\u001b[0m \u001b[0;34m\u001b[0m\u001b[0m\n\u001b[0;32m--> 204\u001b[0;31m         \u001b[0mX\u001b[0m \u001b[0;34m=\u001b[0m \u001b[0mcheck_array\u001b[0m\u001b[0;34m(\u001b[0m\u001b[0mX\u001b[0m\u001b[0;34m,\u001b[0m \u001b[0maccept_sparse\u001b[0m\u001b[0;34m=\u001b[0m\u001b[0;34m[\u001b[0m\u001b[0;34m'csr'\u001b[0m\u001b[0;34m,\u001b[0m \u001b[0;34m'csc'\u001b[0m\u001b[0;34m,\u001b[0m \u001b[0;34m'coo'\u001b[0m\u001b[0;34m]\u001b[0m\u001b[0;34m)\u001b[0m\u001b[0;34m\u001b[0m\u001b[0;34m\u001b[0m\u001b[0m\n\u001b[0m\u001b[1;32m    205\u001b[0m         return safe_sparse_dot(X, self.coef_.T,\n\u001b[1;32m    206\u001b[0m                                dense_output=True) + self.intercept_\n",
      "\u001b[0;32m~/miniconda3/envs/newml/lib/python3.7/site-packages/sklearn/utils/validation.py\u001b[0m in \u001b[0;36mcheck_array\u001b[0;34m(array, accept_sparse, accept_large_sparse, dtype, order, copy, force_all_finite, ensure_2d, allow_nd, ensure_min_samples, ensure_min_features, warn_on_dtype, estimator)\u001b[0m\n\u001b[1;32m    512\u001b[0m                     \u001b[0;34m\"Reshape your data either using array.reshape(-1, 1) if \"\u001b[0m\u001b[0;34m\u001b[0m\u001b[0;34m\u001b[0m\u001b[0m\n\u001b[1;32m    513\u001b[0m                     \u001b[0;34m\"your data has a single feature or array.reshape(1, -1) \"\u001b[0m\u001b[0;34m\u001b[0m\u001b[0;34m\u001b[0m\u001b[0m\n\u001b[0;32m--> 514\u001b[0;31m                     \"if it contains a single sample.\".format(array))\n\u001b[0m\u001b[1;32m    515\u001b[0m             \u001b[0;31m# If input is 1D raise error\u001b[0m\u001b[0;34m\u001b[0m\u001b[0;34m\u001b[0m\u001b[0;34m\u001b[0m\u001b[0m\n\u001b[1;32m    516\u001b[0m             \u001b[0;32mif\u001b[0m \u001b[0marray\u001b[0m\u001b[0;34m.\u001b[0m\u001b[0mndim\u001b[0m \u001b[0;34m==\u001b[0m \u001b[0;36m1\u001b[0m\u001b[0;34m:\u001b[0m\u001b[0;34m\u001b[0m\u001b[0;34m\u001b[0m\u001b[0m\n",
      "\u001b[0;31mValueError\u001b[0m: Expected 2D array, got scalar array instead:\narray=5.\nReshape your data either using array.reshape(-1, 1) if your data has a single feature or array.reshape(1, -1) if it contains a single sample."
     ]
    }
   ],
   "source": [
    "lr.predict(5)"
   ]
  },
  {
   "cell_type": "code",
   "execution_count": 27,
   "metadata": {},
   "outputs": [
    {
     "data": {
      "text/plain": [
       "array([-4.83059364e+01,  7.71742984e+01,  9.29108729e+01,  3.13456643e+01,\n",
       "        4.71783217e+01, -3.24958343e+01, -2.22161515e+00, -6.48675724e+00,\n",
       "       -1.35594839e+02, -2.17145356e+01,  2.23464742e+01,  7.76005521e+01,\n",
       "       -4.10029658e+01, -2.04598247e+01,  4.81738277e+01, -3.39647885e+00,\n",
       "        2.52416057e+01, -1.12422315e+01,  8.32328192e+01,  7.25460029e+00,\n",
       "        9.80088214e+01, -1.78894180e+01, -6.06777109e+01, -4.62670382e+01,\n",
       "        3.26871270e+01, -5.83906158e+01,  3.99119982e+01,  3.11609408e+01,\n",
       "        2.90749072e+01, -7.97822952e+01, -9.69087432e+00, -3.24239162e+00,\n",
       "       -9.96324728e+01,  1.26056280e+02,  3.26281908e+00,  6.67387026e+01,\n",
       "       -7.67026638e+01,  1.30521142e+01, -4.19464081e+00,  7.26179861e+01,\n",
       "       -1.18852595e+02, -1.23103812e+01, -1.03287229e+02,  1.92139960e+01,\n",
       "        9.34066039e-01, -2.01319538e+01,  5.92971943e+01, -1.80657513e+01,\n",
       "       -3.70667959e+01,  6.92258383e+01, -6.88953796e+01, -4.55598224e+01,\n",
       "       -2.25794405e+01,  2.22682916e+01, -1.03818718e+02,  8.97828273e+01,\n",
       "        3.52141430e+01,  5.70285287e+01, -5.00386226e+01, -1.28536247e+00,\n",
       "       -1.39214227e-01, -7.87605170e+01,  2.06094131e+01, -5.45117653e+01,\n",
       "        3.52727368e+00, -2.04360511e+01,  4.21639482e+01, -3.48226630e+01,\n",
       "       -1.48193762e+02, -2.24359664e+01,  1.53205767e+01,  2.17060083e+01,\n",
       "       -3.46558017e+01,  3.62344529e+00, -1.30482842e+02,  2.94415803e+01,\n",
       "       -3.56971590e+01, -4.64053369e+01, -2.49731971e+01,  1.23843776e+01,\n",
       "        2.91323393e+01, -1.41537140e+01, -6.17535840e+01,  3.03331752e+01,\n",
       "        5.85182471e+00,  3.18560247e+01, -1.13092087e+02, -1.66462946e+01,\n",
       "        6.68211165e+01,  4.66185616e+00,  7.09264255e+01, -6.56612384e+01,\n",
       "        7.98132974e+01, -7.83844815e+00,  1.29467921e+02, -9.65216797e+01,\n",
       "       -1.13476562e+02,  4.41676111e+01,  1.43960504e+00, -7.67364663e+00])"
      ]
     },
     "execution_count": 27,
     "metadata": {},
     "output_type": "execute_result"
    }
   ],
   "source": [
    "lr.predict(x)"
   ]
  },
  {
   "cell_type": "code",
   "execution_count": 28,
   "metadata": {},
   "outputs": [],
   "source": [
    "p = lr.predict(x)"
   ]
  },
  {
   "cell_type": "code",
   "execution_count": 29,
   "metadata": {},
   "outputs": [
    {
     "data": {
      "image/png": "[encoded data removed]",
      "text/plain": [
       "<Figure size 432x288 with 1 Axes>"
      ]
     },
     "metadata": {
      "needs_background": "light"
     },
     "output_type": "display_data"
    }
   ],
   "source": [
    "pl.scatter(x,y)\n",
    "pl.plot(x,p, color='red')\n",
    "pl.show()"
   ]
  },
  {
   "cell_type": "code",
   "execution_count": 30,
   "metadata": {},
   "outputs": [
    {
     "data": {
      "text/plain": [
       "array([129.90485292, 113.08250498])"
      ]
     },
     "execution_count": 30,
     "metadata": {},
     "output_type": "execute_result"
    }
   ],
   "source": [
    "lr.predict([\n",
    "    [2.3],\n",
    "    [2]\n",
    "])"
   ]
  },
  {
   "cell_type": "code",
   "execution_count": 31,
   "metadata": {},
   "outputs": [],
   "source": [
    "from sklearn.model_selection import train_test_split"
   ]
  },
  {
   "cell_type": "code",
   "execution_count": 32,
   "metadata": {},
   "outputs": [],
   "source": [
    "xtrain, xtest, ytrain, ytest = train_test_split(x, y, test_size=0.2, random_state=2)"
   ]
  },
  {
   "cell_type": "code",
   "execution_count": 33,
   "metadata": {},
   "outputs": [
    {
     "data": {
      "image/png": "[encoded data removed]",
      "text/plain": [
       "<Figure size 432x288 with 1 Axes>"
      ]
     },
     "metadata": {
      "needs_background": "light"
     },
     "output_type": "display_data"
    }
   ],
   "source": [
    "pl.scatter(xtrain, ytrain)\n",
    "pl.scatter(xtest, xtest, color='green')\n",
    "pl.show()"
   ]
  },
  {
   "cell_type": "code",
   "execution_count": 34,
   "metadata": {},
   "outputs": [
    {
     "data": {
      "image/png": "[encoded data removed]",
      "text/plain": [
       "<Figure size 432x288 with 1 Axes>"
      ]
     },
     "metadata": {
      "needs_background": "light"
     },
     "output_type": "display_data"
    }
   ],
   "source": [
    "pl.scatter(xtrain, ytrain)\n",
    "pl.scatter(xtest, ytest, color='green')\n",
    "pl.show()"
   ]
  },
  {
   "cell_type": "code",
   "execution_count": 35,
   "metadata": {},
   "outputs": [
    {
     "ename": "ValueError",
     "evalue": "x and y must have same first dimension, but have shapes (100, 1) and (20,)",
     "output_type": "error",
     "traceback": [
      "\u001b[0;31m---------------------------------------------------------------------------\u001b[0m",
      "\u001b[0;31mValueError\u001b[0m                                Traceback (most recent call last)",
      "\u001b[0;32m<ipython-input-35-23ba46ac4b4e>\u001b[0m in \u001b[0;36m<module>\u001b[0;34m\u001b[0m\n\u001b[1;32m      3\u001b[0m \u001b[0mpl\u001b[0m\u001b[0;34m.\u001b[0m\u001b[0mscatter\u001b[0m\u001b[0;34m(\u001b[0m\u001b[0mxtrain\u001b[0m\u001b[0;34m,\u001b[0m \u001b[0mytrain\u001b[0m\u001b[0;34m)\u001b[0m\u001b[0;34m\u001b[0m\u001b[0;34m\u001b[0m\u001b[0m\n\u001b[1;32m      4\u001b[0m \u001b[0mpl\u001b[0m\u001b[0;34m.\u001b[0m\u001b[0mscatter\u001b[0m\u001b[0;34m(\u001b[0m\u001b[0mxtest\u001b[0m\u001b[0;34m,\u001b[0m \u001b[0mytest\u001b[0m\u001b[0;34m,\u001b[0m \u001b[0mcolor\u001b[0m\u001b[0;34m=\u001b[0m\u001b[0;34m'orange'\u001b[0m\u001b[0;34m)\u001b[0m\u001b[0;34m\u001b[0m\u001b[0;34m\u001b[0m\u001b[0m\n\u001b[0;32m----> 5\u001b[0;31m \u001b[0mpl\u001b[0m\u001b[0;34m.\u001b[0m\u001b[0mplot\u001b[0m\u001b[0;34m(\u001b[0m\u001b[0mx\u001b[0m\u001b[0;34m,\u001b[0m\u001b[0mp\u001b[0m\u001b[0;34m,\u001b[0m \u001b[0mcolor\u001b[0m\u001b[0;34m=\u001b[0m\u001b[0;34m'red'\u001b[0m\u001b[0;34m)\u001b[0m\u001b[0;34m\u001b[0m\u001b[0;34m\u001b[0m\u001b[0m\n\u001b[0m\u001b[1;32m      6\u001b[0m \u001b[0mpl\u001b[0m\u001b[0;34m.\u001b[0m\u001b[0mshow\u001b[0m\u001b[0;34m(\u001b[0m\u001b[0;34m)\u001b[0m\u001b[0;34m\u001b[0m\u001b[0;34m\u001b[0m\u001b[0m\n",
      "\u001b[0;32m~/miniconda3/envs/newml/lib/python3.7/site-packages/matplotlib/pyplot.py\u001b[0m in \u001b[0;36mplot\u001b[0;34m(scalex, scaley, data, *args, **kwargs)\u001b[0m\n\u001b[1;32m   2787\u001b[0m     return gca().plot(\n\u001b[1;32m   2788\u001b[0m         *args, scalex=scalex, scaley=scaley, **({\"data\": data} if data\n\u001b[0;32m-> 2789\u001b[0;31m         is not None else {}), **kwargs)\n\u001b[0m\u001b[1;32m   2790\u001b[0m \u001b[0;34m\u001b[0m\u001b[0m\n\u001b[1;32m   2791\u001b[0m \u001b[0;34m\u001b[0m\u001b[0m\n",
      "\u001b[0;32m~/miniconda3/envs/newml/lib/python3.7/site-packages/matplotlib/axes/_axes.py\u001b[0m in \u001b[0;36mplot\u001b[0;34m(self, scalex, scaley, data, *args, **kwargs)\u001b[0m\n\u001b[1;32m   1664\u001b[0m         \"\"\"\n\u001b[1;32m   1665\u001b[0m         \u001b[0mkwargs\u001b[0m \u001b[0;34m=\u001b[0m \u001b[0mcbook\u001b[0m\u001b[0;34m.\u001b[0m\u001b[0mnormalize_kwargs\u001b[0m\u001b[0;34m(\u001b[0m\u001b[0mkwargs\u001b[0m\u001b[0;34m,\u001b[0m \u001b[0mmlines\u001b[0m\u001b[0;34m.\u001b[0m\u001b[0mLine2D\u001b[0m\u001b[0;34m.\u001b[0m\u001b[0m_alias_map\u001b[0m\u001b[0;34m)\u001b[0m\u001b[0;34m\u001b[0m\u001b[0;34m\u001b[0m\u001b[0m\n\u001b[0;32m-> 1666\u001b[0;31m         \u001b[0mlines\u001b[0m \u001b[0;34m=\u001b[0m \u001b[0;34m[\u001b[0m\u001b[0;34m*\u001b[0m\u001b[0mself\u001b[0m\u001b[0;34m.\u001b[0m\u001b[0m_get_lines\u001b[0m\u001b[0;34m(\u001b[0m\u001b[0;34m*\u001b[0m\u001b[0margs\u001b[0m\u001b[0;34m,\u001b[0m \u001b[0mdata\u001b[0m\u001b[0;34m=\u001b[0m\u001b[0mdata\u001b[0m\u001b[0;34m,\u001b[0m \u001b[0;34m**\u001b[0m\u001b[0mkwargs\u001b[0m\u001b[0;34m)\u001b[0m\u001b[0;34m]\u001b[0m\u001b[0;34m\u001b[0m\u001b[0;34m\u001b[0m\u001b[0m\n\u001b[0m\u001b[1;32m   1667\u001b[0m         \u001b[0;32mfor\u001b[0m \u001b[0mline\u001b[0m \u001b[0;32min\u001b[0m \u001b[0mlines\u001b[0m\u001b[0;34m:\u001b[0m\u001b[0;34m\u001b[0m\u001b[0;34m\u001b[0m\u001b[0m\n\u001b[1;32m   1668\u001b[0m             \u001b[0mself\u001b[0m\u001b[0;34m.\u001b[0m\u001b[0madd_line\u001b[0m\u001b[0;34m(\u001b[0m\u001b[0mline\u001b[0m\u001b[0;34m)\u001b[0m\u001b[0;34m\u001b[0m\u001b[0;34m\u001b[0m\u001b[0m\n",
      "\u001b[0;32m~/miniconda3/envs/newml/lib/python3.7/site-packages/matplotlib/axes/_base.py\u001b[0m in \u001b[0;36m__call__\u001b[0;34m(self, *args, **kwargs)\u001b[0m\n\u001b[1;32m    223\u001b[0m                 \u001b[0mthis\u001b[0m \u001b[0;34m+=\u001b[0m \u001b[0margs\u001b[0m\u001b[0;34m[\u001b[0m\u001b[0;36m0\u001b[0m\u001b[0;34m]\u001b[0m\u001b[0;34m,\u001b[0m\u001b[0;34m\u001b[0m\u001b[0;34m\u001b[0m\u001b[0m\n\u001b[1;32m    224\u001b[0m                 \u001b[0margs\u001b[0m \u001b[0;34m=\u001b[0m \u001b[0margs\u001b[0m\u001b[0;34m[\u001b[0m\u001b[0;36m1\u001b[0m\u001b[0;34m:\u001b[0m\u001b[0;34m]\u001b[0m\u001b[0;34m\u001b[0m\u001b[0;34m\u001b[0m\u001b[0m\n\u001b[0;32m--> 225\u001b[0;31m             \u001b[0;32myield\u001b[0m \u001b[0;32mfrom\u001b[0m \u001b[0mself\u001b[0m\u001b[0;34m.\u001b[0m\u001b[0m_plot_args\u001b[0m\u001b[0;34m(\u001b[0m\u001b[0mthis\u001b[0m\u001b[0;34m,\u001b[0m \u001b[0mkwargs\u001b[0m\u001b[0;34m)\u001b[0m\u001b[0;34m\u001b[0m\u001b[0;34m\u001b[0m\u001b[0m\n\u001b[0m\u001b[1;32m    226\u001b[0m \u001b[0;34m\u001b[0m\u001b[0m\n\u001b[1;32m    227\u001b[0m     \u001b[0;32mdef\u001b[0m \u001b[0mget_next_color\u001b[0m\u001b[0;34m(\u001b[0m\u001b[0mself\u001b[0m\u001b[0;34m)\u001b[0m\u001b[0;34m:\u001b[0m\u001b[0;34m\u001b[0m\u001b[0;34m\u001b[0m\u001b[0m\n",
      "\u001b[0;32m~/miniconda3/envs/newml/lib/python3.7/site-packages/matplotlib/axes/_base.py\u001b[0m in \u001b[0;36m_plot_args\u001b[0;34m(self, tup, kwargs)\u001b[0m\n\u001b[1;32m    389\u001b[0m             \u001b[0mx\u001b[0m\u001b[0;34m,\u001b[0m \u001b[0my\u001b[0m \u001b[0;34m=\u001b[0m \u001b[0mindex_of\u001b[0m\u001b[0;34m(\u001b[0m\u001b[0mtup\u001b[0m\u001b[0;34m[\u001b[0m\u001b[0;34m-\u001b[0m\u001b[0;36m1\u001b[0m\u001b[0;34m]\u001b[0m\u001b[0;34m)\u001b[0m\u001b[0;34m\u001b[0m\u001b[0;34m\u001b[0m\u001b[0m\n\u001b[1;32m    390\u001b[0m \u001b[0;34m\u001b[0m\u001b[0m\n\u001b[0;32m--> 391\u001b[0;31m         \u001b[0mx\u001b[0m\u001b[0;34m,\u001b[0m \u001b[0my\u001b[0m \u001b[0;34m=\u001b[0m \u001b[0mself\u001b[0m\u001b[0;34m.\u001b[0m\u001b[0m_xy_from_xy\u001b[0m\u001b[0;34m(\u001b[0m\u001b[0mx\u001b[0m\u001b[0;34m,\u001b[0m \u001b[0my\u001b[0m\u001b[0;34m)\u001b[0m\u001b[0;34m\u001b[0m\u001b[0;34m\u001b[0m\u001b[0m\n\u001b[0m\u001b[1;32m    392\u001b[0m \u001b[0;34m\u001b[0m\u001b[0m\n\u001b[1;32m    393\u001b[0m         \u001b[0;32mif\u001b[0m \u001b[0mself\u001b[0m\u001b[0;34m.\u001b[0m\u001b[0mcommand\u001b[0m \u001b[0;34m==\u001b[0m \u001b[0;34m'plot'\u001b[0m\u001b[0;34m:\u001b[0m\u001b[0;34m\u001b[0m\u001b[0;34m\u001b[0m\u001b[0m\n",
      "\u001b[0;32m~/miniconda3/envs/newml/lib/python3.7/site-packages/matplotlib/axes/_base.py\u001b[0m in \u001b[0;36m_xy_from_xy\u001b[0;34m(self, x, y)\u001b[0m\n\u001b[1;32m    268\u001b[0m         \u001b[0;32mif\u001b[0m \u001b[0mx\u001b[0m\u001b[0;34m.\u001b[0m\u001b[0mshape\u001b[0m\u001b[0;34m[\u001b[0m\u001b[0;36m0\u001b[0m\u001b[0;34m]\u001b[0m \u001b[0;34m!=\u001b[0m \u001b[0my\u001b[0m\u001b[0;34m.\u001b[0m\u001b[0mshape\u001b[0m\u001b[0;34m[\u001b[0m\u001b[0;36m0\u001b[0m\u001b[0;34m]\u001b[0m\u001b[0;34m:\u001b[0m\u001b[0;34m\u001b[0m\u001b[0;34m\u001b[0m\u001b[0m\n\u001b[1;32m    269\u001b[0m             raise ValueError(\"x and y must have same first dimension, but \"\n\u001b[0;32m--> 270\u001b[0;31m                              \"have shapes {} and {}\".format(x.shape, y.shape))\n\u001b[0m\u001b[1;32m    271\u001b[0m         \u001b[0;32mif\u001b[0m \u001b[0mx\u001b[0m\u001b[0;34m.\u001b[0m\u001b[0mndim\u001b[0m \u001b[0;34m>\u001b[0m \u001b[0;36m2\u001b[0m \u001b[0;32mor\u001b[0m \u001b[0my\u001b[0m\u001b[0;34m.\u001b[0m\u001b[0mndim\u001b[0m \u001b[0;34m>\u001b[0m \u001b[0;36m2\u001b[0m\u001b[0;34m:\u001b[0m\u001b[0;34m\u001b[0m\u001b[0;34m\u001b[0m\u001b[0m\n\u001b[1;32m    272\u001b[0m             raise ValueError(\"x and y can be no greater than 2-D, but have \"\n",
      "\u001b[0;31mValueError\u001b[0m: x and y must have same first dimension, but have shapes (100, 1) and (20,)"
     ]
    },
    {
     "data": {
      "image/png": "[encoded data removed]",
      "text/plain": [
       "<Figure size 432x288 with 1 Axes>"
      ]
     },
     "metadata": {
      "needs_background": "light"
     },
     "output_type": "display_data"
    }
   ],
   "source": [
    "lr.fit(xtrain, ytrain)\n",
    "p = lr.predict(xtest)\n",
    "pl.scatter(xtrain, ytrain)\n",
    "pl.scatter(xtest, ytest, color='orange')\n",
    "pl.plot(x,p, color='red')\n",
    "pl.show()"
   ]
  },
  {
   "cell_type": "code",
   "execution_count": 36,
   "metadata": {},
   "outputs": [
    {
     "data": {
      "image/png": "[encoded data removed]",
      "text/plain": [
       "<Figure size 432x288 with 1 Axes>"
      ]
     },
     "metadata": {
      "needs_background": "light"
     },
     "output_type": "display_data"
    }
   ],
   "source": [
    "lr.fit(xtrain, ytrain)\n",
    "p = lr.predict(xtest)\n",
    "pl.scatter(xtrain, ytrain)\n",
    "pl.scatter(xtest, ytest, color='orange')\n",
    "pl.plot(xtest,p, color='red')\n",
    "pl.show()"
   ]
  },
  {
   "cell_type": "code",
   "execution_count": 37,
   "metadata": {},
   "outputs": [
    {
     "data": {
      "image/png": "[encoded data removed]",
      "text/plain": [
       "<Figure size 432x288 with 1 Axes>"
      ]
     },
     "metadata": {
      "needs_background": "light"
     },
     "output_type": "display_data"
    }
   ],
   "source": [
    "pl.scatter(xtest, ytest, color='orange')\n",
    "pl.plot(xtest,p, color='red')\n",
    "pl.show()"
   ]
  },
  {
   "cell_type": "code",
   "execution_count": 38,
   "metadata": {},
   "outputs": [
    {
     "data": {
      "image/png": "[encoded data removed]",
      "text/plain": [
       "<Figure size 432x288 with 1 Axes>"
      ]
     },
     "metadata": {
      "needs_background": "light"
     },
     "output_type": "display_data"
    }
   ],
   "source": [
    "x, y = mr(n_samples=100, n_features=1, noise=45, random_state=2)\n",
    "pl.scatter(x,y)\n",
    "pl.show()"
   ]
  },
  {
   "cell_type": "code",
   "execution_count": 39,
   "metadata": {},
   "outputs": [],
   "source": [
    "from sklearn.metrics import mean_squared_error"
   ]
  },
  {
   "cell_type": "code",
   "execution_count": 40,
   "metadata": {},
   "outputs": [
    {
     "data": {
      "text/plain": [
       "817.8249700094418"
      ]
     },
     "execution_count": 40,
     "metadata": {},
     "output_type": "execute_result"
    }
   ],
   "source": [
    "mean_squared_error(ytest, p)"
   ]
  },
  {
   "cell_type": "code",
   "execution_count": 41,
   "metadata": {},
   "outputs": [
    {
     "data": {
      "text/plain": [
       "1136.593333034077"
      ]
     },
     "execution_count": 41,
     "metadata": {},
     "output_type": "execute_result"
    }
   ],
   "source": [
    "ypred = lr.predict(xtrain)\n",
    "mean_squared_error(ytrain, ypred)"
   ]
  },
  {
   "cell_type": "code",
   "execution_count": 42,
   "metadata": {},
   "outputs": [
    {
     "data": {
      "text/plain": [
       "19.89411230488777"
      ]
     },
     "execution_count": 42,
     "metadata": {},
     "output_type": "execute_result"
    }
   ],
   "source": [
    "x, y = mr(n_samples=200, n_features=1, noise=5, random_state=3)\n",
    "xtrain, xtest, ytrain, ytest = train_test_split(x, y, test_size=0.3, random_state=3)\n",
    "lr.fit(xtrain, ytrain)\n",
    "p = lr.predict(xtrain)\n",
    "q = lr.predict(xtest)\n",
    "mean_squared_error(ytrain, p)\n",
    "mean_squared_error(ytest, q)"
   ]
  },
  {
   "cell_type": "code",
   "execution_count": 43,
   "metadata": {},
   "outputs": [
    {
     "data": {
      "text/plain": [
       "(28.535892133852318, 19.89411230488777)"
      ]
     },
     "execution_count": 43,
     "metadata": {},
     "output_type": "execute_result"
    }
   ],
   "source": [
    "mean_squared_error(ytrain, p), mean_squared_error(ytest, q)"
   ]
  },
  {
   "cell_type": "code",
   "execution_count": 44,
   "metadata": {},
   "outputs": [
    {
     "data": {
      "image/png": "[encoded data removed]",
      "text/plain": [
       "<Figure size 432x288 with 1 Axes>"
      ]
     },
     "metadata": {
      "needs_background": "light"
     },
     "output_type": "display_data"
    }
   ],
   "source": [
    "pl.scatter(xtrain, ytrain)\n",
    "pl.scatter(xtest, ytest, color='orange')\n",
    "pl.show()"
   ]
  },
  {
   "cell_type": "code",
   "execution_count": 45,
   "metadata": {},
   "outputs": [
    {
     "data": {
      "image/png": "[encoded data removed]",
      "text/plain": [
       "<Figure size 432x288 with 1 Axes>"
      ]
     },
     "metadata": {
      "needs_background": "light"
     },
     "output_type": "display_data"
    }
   ],
   "source": [
    "pl.scatter(xtest, ytest, color='orange')\n",
    "pl.plot(xtest,q, color='red')\n",
    "pl.show()"
   ]
  },
  {
   "cell_type": "code",
   "execution_count": 46,
   "metadata": {},
   "outputs": [
    {
     "data": {
      "image/png": "[encoded data removed]",
      "text/plain": [
       "<Figure size 432x288 with 1 Axes>"
      ]
     },
     "metadata": {
      "needs_background": "light"
     },
     "output_type": "display_data"
    }
   ],
   "source": [
    "pl.scatter(xtrain, ytrain)\n",
    "pl.plot(xtrain,p, color='red')\n",
    "pl.show()"
   ]
  },
  {
   "cell_type": "code",
   "execution_count": 47,
   "metadata": {},
   "outputs": [
    {
     "data": {
      "text/plain": [
       "(0.7067013685100989, 1.410109601910746)"
      ]
     },
     "execution_count": 47,
     "metadata": {},
     "output_type": "execute_result"
    }
   ],
   "source": [
    "x, y = mr(n_samples=10, n_features=1, noise=2, random_state=4)\n",
    "xtrain, xtest, ytrain, ytest = train_test_split(x, y, test_size=0.2, random_state=4)\n",
    "lr.fit(xtrain, ytrain)\n",
    "p = lr.predict(xtrain)\n",
    "q = lr.predict(xtest)\n",
    "mean_squared_error(ytrain, p), mean_squared_error(ytest, q)"
   ]
  },
  {
   "cell_type": "code",
   "execution_count": 48,
   "metadata": {},
   "outputs": [
    {
     "data": {
      "image/png": "[encoded data removed]",
      "text/plain": [
       "<Figure size 432x288 with 1 Axes>"
      ]
     },
     "metadata": {
      "needs_background": "light"
     },
     "output_type": "display_data"
    }
   ],
   "source": [
    "pl.scatter(xtrain, ytrain)\n",
    "pl.scatter(xtest, ytest, color='orange')\n",
    "pl.show()"
   ]
  },
  {
   "cell_type": "code",
   "execution_count": null,
   "metadata": {},
   "outputs": [],
   "source": []
  }
 ],
 "metadata": {
  "kernelspec": {
   "display_name": "Python 3",
   "language": "python",
   "name": "python3"
  },
  "language_info": {
   "codemirror_mode": {
    "name": "ipython",
    "version": 3
   },
   "file_extension": ".py",
   "mimetype": "text/x-python",
   "name": "python",
   "nbconvert_exporter": "python",
   "pygments_lexer": "ipython3",
   "version": "3.7.3"
  }
 },
 "nbformat": 4,
 "nbformat_minor": 2
}
